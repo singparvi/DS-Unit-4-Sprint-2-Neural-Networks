{
 "metadata": {
  "language_info": {
   "codemirror_mode": {
    "name": "ipython",
    "version": 3
   },
   "file_extension": ".py",
   "mimetype": "text/x-python",
   "name": "python",
   "nbconvert_exporter": "python",
   "pygments_lexer": "ipython3",
   "version": "3.7.0"
  },
  "orig_nbformat": 2,
  "kernelspec": {
   "name": "u4-s1-nlp",
   "display_name": "Python 3.7.0 64-bit ('U4-S1-NLP': conda)"
  }
 },
 "nbformat": 4,
 "nbformat_minor": 2,
 "cells": [
  {
   "source": [
    "# Objective 01 - describe the foundational components of a neural network"
   ],
   "cell_type": "markdown",
   "metadata": {}
  },
  {
   "cell_type": "code",
   "execution_count": 8,
   "metadata": {},
   "outputs": [
    {
     "output_type": "display_data",
     "data": {
      "text/plain": "<Figure size 432x288 with 1 Axes>",
      "image/svg+xml": "<?xml version=\"1.0\" encoding=\"utf-8\" standalone=\"no\"?>\n<!DOCTYPE svg PUBLIC \"-//W3C//DTD SVG 1.1//EN\"\n  \"http://www.w3.org/Graphics/SVG/1.1/DTD/svg11.dtd\">\n<svg height=\"262.19625pt\" version=\"1.1\" viewBox=\"0 0 385.78125 262.19625\" width=\"385.78125pt\" xmlns=\"http://www.w3.org/2000/svg\" xmlns:xlink=\"http://www.w3.org/1999/xlink\">\n <metadata>\n  <rdf:RDF xmlns:cc=\"http://creativecommons.org/ns#\" xmlns:dc=\"http://purl.org/dc/elements/1.1/\" xmlns:rdf=\"http://www.w3.org/1999/02/22-rdf-syntax-ns#\">\n   <cc:Work>\n    <dc:type rdf:resource=\"http://purl.org/dc/dcmitype/StillImage\"/>\n    <dc:date>2021-05-18T18:59:49.607578</dc:date>\n    <dc:format>image/svg+xml</dc:format>\n    <dc:creator>\n     <cc:Agent>\n      <dc:title>Matplotlib v3.4.1, https://matplotlib.org/</dc:title>\n     </cc:Agent>\n    </dc:creator>\n   </cc:Work>\n  </rdf:RDF>\n </metadata>\n <defs>\n  <style type=\"text/css\">*{stroke-linecap:butt;stroke-linejoin:round;}</style>\n </defs>\n <g id=\"figure_1\">\n  <g id=\"patch_1\">\n   <path d=\"M 0 262.19625 \nL 385.78125 262.19625 \nL 385.78125 0 \nL 0 0 \nz\n\" style=\"fill:none;\"/>\n  </g>\n  <g id=\"axes_1\">\n   <g id=\"patch_2\">\n    <path d=\"M 43.78125 224.64 \nL 378.58125 224.64 \nL 378.58125 7.2 \nL 43.78125 7.2 \nz\n\" style=\"fill:#ffffff;\"/>\n   </g>\n   <g id=\"matplotlib.axis_1\">\n    <g id=\"xtick_1\">\n     <g id=\"line2d_1\">\n      <defs>\n       <path d=\"M 0 0 \nL 0 3.5 \n\" id=\"m89175b21a9\" style=\"stroke:#000000;stroke-width:0.8;\"/>\n      </defs>\n      <g>\n       <use style=\"stroke:#000000;stroke-width:0.8;\" x=\"89.743233\" xlink:href=\"#m89175b21a9\" y=\"224.64\"/>\n      </g>\n     </g>\n     <g id=\"text_1\">\n      <!-- −4 -->\n      <g transform=\"translate(82.37214 239.238437)scale(0.1 -0.1)\">\n       <defs>\n        <path d=\"M 678 2272 \nL 4684 2272 \nL 4684 1741 \nL 678 1741 \nL 678 2272 \nz\n\" id=\"DejaVuSans-2212\" transform=\"scale(0.015625)\"/>\n        <path d=\"M 2419 4116 \nL 825 1625 \nL 2419 1625 \nL 2419 4116 \nz\nM 2253 4666 \nL 3047 4666 \nL 3047 1625 \nL 3713 1625 \nL 3713 1100 \nL 3047 1100 \nL 3047 0 \nL 2419 0 \nL 2419 1100 \nL 313 1100 \nL 313 1709 \nL 2253 4666 \nz\n\" id=\"DejaVuSans-34\" transform=\"scale(0.015625)\"/>\n       </defs>\n       <use xlink:href=\"#DejaVuSans-2212\"/>\n       <use x=\"83.789062\" xlink:href=\"#DejaVuSans-34\"/>\n      </g>\n     </g>\n    </g>\n    <g id=\"xtick_2\">\n     <g id=\"line2d_2\">\n      <g>\n       <use style=\"stroke:#000000;stroke-width:0.8;\" x=\"151.230837\" xlink:href=\"#m89175b21a9\" y=\"224.64\"/>\n      </g>\n     </g>\n     <g id=\"text_2\">\n      <!-- −2 -->\n      <g transform=\"translate(143.859743 239.238437)scale(0.1 -0.1)\">\n       <defs>\n        <path d=\"M 1228 531 \nL 3431 531 \nL 3431 0 \nL 469 0 \nL 469 531 \nQ 828 903 1448 1529 \nQ 2069 2156 2228 2338 \nQ 2531 2678 2651 2914 \nQ 2772 3150 2772 3378 \nQ 2772 3750 2511 3984 \nQ 2250 4219 1831 4219 \nQ 1534 4219 1204 4116 \nQ 875 4013 500 3803 \nL 500 4441 \nQ 881 4594 1212 4672 \nQ 1544 4750 1819 4750 \nQ 2544 4750 2975 4387 \nQ 3406 4025 3406 3419 \nQ 3406 3131 3298 2873 \nQ 3191 2616 2906 2266 \nQ 2828 2175 2409 1742 \nQ 1991 1309 1228 531 \nz\n\" id=\"DejaVuSans-32\" transform=\"scale(0.015625)\"/>\n       </defs>\n       <use xlink:href=\"#DejaVuSans-2212\"/>\n       <use x=\"83.789062\" xlink:href=\"#DejaVuSans-32\"/>\n      </g>\n     </g>\n    </g>\n    <g id=\"xtick_3\">\n     <g id=\"line2d_3\">\n      <g>\n       <use style=\"stroke:#000000;stroke-width:0.8;\" x=\"212.71844\" xlink:href=\"#m89175b21a9\" y=\"224.64\"/>\n      </g>\n     </g>\n     <g id=\"text_3\">\n      <!-- 0 -->\n      <g transform=\"translate(209.53719 239.238437)scale(0.1 -0.1)\">\n       <defs>\n        <path d=\"M 2034 4250 \nQ 1547 4250 1301 3770 \nQ 1056 3291 1056 2328 \nQ 1056 1369 1301 889 \nQ 1547 409 2034 409 \nQ 2525 409 2770 889 \nQ 3016 1369 3016 2328 \nQ 3016 3291 2770 3770 \nQ 2525 4250 2034 4250 \nz\nM 2034 4750 \nQ 2819 4750 3233 4129 \nQ 3647 3509 3647 2328 \nQ 3647 1150 3233 529 \nQ 2819 -91 2034 -91 \nQ 1250 -91 836 529 \nQ 422 1150 422 2328 \nQ 422 3509 836 4129 \nQ 1250 4750 2034 4750 \nz\n\" id=\"DejaVuSans-30\" transform=\"scale(0.015625)\"/>\n       </defs>\n       <use xlink:href=\"#DejaVuSans-30\"/>\n      </g>\n     </g>\n    </g>\n    <g id=\"xtick_4\">\n     <g id=\"line2d_4\">\n      <g>\n       <use style=\"stroke:#000000;stroke-width:0.8;\" x=\"274.206043\" xlink:href=\"#m89175b21a9\" y=\"224.64\"/>\n      </g>\n     </g>\n     <g id=\"text_4\">\n      <!-- 2 -->\n      <g transform=\"translate(271.024793 239.238437)scale(0.1 -0.1)\">\n       <use xlink:href=\"#DejaVuSans-32\"/>\n      </g>\n     </g>\n    </g>\n    <g id=\"xtick_5\">\n     <g id=\"line2d_5\">\n      <g>\n       <use style=\"stroke:#000000;stroke-width:0.8;\" x=\"335.693647\" xlink:href=\"#m89175b21a9\" y=\"224.64\"/>\n      </g>\n     </g>\n     <g id=\"text_5\">\n      <!-- 4 -->\n      <g transform=\"translate(332.512397 239.238437)scale(0.1 -0.1)\">\n       <use xlink:href=\"#DejaVuSans-34\"/>\n      </g>\n     </g>\n    </g>\n    <g id=\"text_6\">\n     <!-- input -->\n     <g transform=\"translate(198.320312 252.916562)scale(0.1 -0.1)\">\n      <defs>\n       <path d=\"M 603 3500 \nL 1178 3500 \nL 1178 0 \nL 603 0 \nL 603 3500 \nz\nM 603 4863 \nL 1178 4863 \nL 1178 4134 \nL 603 4134 \nL 603 4863 \nz\n\" id=\"DejaVuSans-69\" transform=\"scale(0.015625)\"/>\n       <path d=\"M 3513 2113 \nL 3513 0 \nL 2938 0 \nL 2938 2094 \nQ 2938 2591 2744 2837 \nQ 2550 3084 2163 3084 \nQ 1697 3084 1428 2787 \nQ 1159 2491 1159 1978 \nL 1159 0 \nL 581 0 \nL 581 3500 \nL 1159 3500 \nL 1159 2956 \nQ 1366 3272 1645 3428 \nQ 1925 3584 2291 3584 \nQ 2894 3584 3203 3211 \nQ 3513 2838 3513 2113 \nz\n\" id=\"DejaVuSans-6e\" transform=\"scale(0.015625)\"/>\n       <path d=\"M 1159 525 \nL 1159 -1331 \nL 581 -1331 \nL 581 3500 \nL 1159 3500 \nL 1159 2969 \nQ 1341 3281 1617 3432 \nQ 1894 3584 2278 3584 \nQ 2916 3584 3314 3078 \nQ 3713 2572 3713 1747 \nQ 3713 922 3314 415 \nQ 2916 -91 2278 -91 \nQ 1894 -91 1617 61 \nQ 1341 213 1159 525 \nz\nM 3116 1747 \nQ 3116 2381 2855 2742 \nQ 2594 3103 2138 3103 \nQ 1681 3103 1420 2742 \nQ 1159 2381 1159 1747 \nQ 1159 1113 1420 752 \nQ 1681 391 2138 391 \nQ 2594 391 2855 752 \nQ 3116 1113 3116 1747 \nz\n\" id=\"DejaVuSans-70\" transform=\"scale(0.015625)\"/>\n       <path d=\"M 544 1381 \nL 544 3500 \nL 1119 3500 \nL 1119 1403 \nQ 1119 906 1312 657 \nQ 1506 409 1894 409 \nQ 2359 409 2629 706 \nQ 2900 1003 2900 1516 \nL 2900 3500 \nL 3475 3500 \nL 3475 0 \nL 2900 0 \nL 2900 538 \nQ 2691 219 2414 64 \nQ 2138 -91 1772 -91 \nQ 1169 -91 856 284 \nQ 544 659 544 1381 \nz\nM 1991 3584 \nL 1991 3584 \nz\n\" id=\"DejaVuSans-75\" transform=\"scale(0.015625)\"/>\n       <path d=\"M 1172 4494 \nL 1172 3500 \nL 2356 3500 \nL 2356 3053 \nL 1172 3053 \nL 1172 1153 \nQ 1172 725 1289 603 \nQ 1406 481 1766 481 \nL 2356 481 \nL 2356 0 \nL 1766 0 \nQ 1100 0 847 248 \nQ 594 497 594 1153 \nL 594 3053 \nL 172 3053 \nL 172 3500 \nL 594 3500 \nL 594 4494 \nL 1172 4494 \nz\n\" id=\"DejaVuSans-74\" transform=\"scale(0.015625)\"/>\n      </defs>\n      <use xlink:href=\"#DejaVuSans-69\"/>\n      <use x=\"27.783203\" xlink:href=\"#DejaVuSans-6e\"/>\n      <use x=\"91.162109\" xlink:href=\"#DejaVuSans-70\"/>\n      <use x=\"154.638672\" xlink:href=\"#DejaVuSans-75\"/>\n      <use x=\"218.017578\" xlink:href=\"#DejaVuSans-74\"/>\n     </g>\n    </g>\n   </g>\n   <g id=\"matplotlib.axis_2\">\n    <g id=\"ytick_1\">\n     <g id=\"line2d_6\">\n      <defs>\n       <path d=\"M 0 0 \nL -3.5 0 \n\" id=\"m5f220910ea\" style=\"stroke:#000000;stroke-width:0.8;\"/>\n      </defs>\n      <g>\n       <use style=\"stroke:#000000;stroke-width:0.8;\" x=\"43.78125\" xlink:href=\"#m5f220910ea\" y=\"214.756364\"/>\n      </g>\n     </g>\n     <g id=\"text_7\">\n      <!-- 0.0 -->\n      <g transform=\"translate(20.878125 218.555582)scale(0.1 -0.1)\">\n       <defs>\n        <path d=\"M 684 794 \nL 1344 794 \nL 1344 0 \nL 684 0 \nL 684 794 \nz\n\" id=\"DejaVuSans-2e\" transform=\"scale(0.015625)\"/>\n       </defs>\n       <use xlink:href=\"#DejaVuSans-30\"/>\n       <use x=\"63.623047\" xlink:href=\"#DejaVuSans-2e\"/>\n       <use x=\"95.410156\" xlink:href=\"#DejaVuSans-30\"/>\n      </g>\n     </g>\n    </g>\n    <g id=\"ytick_2\">\n     <g id=\"line2d_7\">\n      <g>\n       <use style=\"stroke:#000000;stroke-width:0.8;\" x=\"43.78125\" xlink:href=\"#m5f220910ea\" y=\"175.221818\"/>\n      </g>\n     </g>\n     <g id=\"text_8\">\n      <!-- 0.2 -->\n      <g transform=\"translate(20.878125 179.021037)scale(0.1 -0.1)\">\n       <use xlink:href=\"#DejaVuSans-30\"/>\n       <use x=\"63.623047\" xlink:href=\"#DejaVuSans-2e\"/>\n       <use x=\"95.410156\" xlink:href=\"#DejaVuSans-32\"/>\n      </g>\n     </g>\n    </g>\n    <g id=\"ytick_3\">\n     <g id=\"line2d_8\">\n      <g>\n       <use style=\"stroke:#000000;stroke-width:0.8;\" x=\"43.78125\" xlink:href=\"#m5f220910ea\" y=\"135.687273\"/>\n      </g>\n     </g>\n     <g id=\"text_9\">\n      <!-- 0.4 -->\n      <g transform=\"translate(20.878125 139.486491)scale(0.1 -0.1)\">\n       <use xlink:href=\"#DejaVuSans-30\"/>\n       <use x=\"63.623047\" xlink:href=\"#DejaVuSans-2e\"/>\n       <use x=\"95.410156\" xlink:href=\"#DejaVuSans-34\"/>\n      </g>\n     </g>\n    </g>\n    <g id=\"ytick_4\">\n     <g id=\"line2d_9\">\n      <g>\n       <use style=\"stroke:#000000;stroke-width:0.8;\" x=\"43.78125\" xlink:href=\"#m5f220910ea\" y=\"96.152727\"/>\n      </g>\n     </g>\n     <g id=\"text_10\">\n      <!-- 0.6 -->\n      <g transform=\"translate(20.878125 99.951946)scale(0.1 -0.1)\">\n       <defs>\n        <path d=\"M 2113 2584 \nQ 1688 2584 1439 2293 \nQ 1191 2003 1191 1497 \nQ 1191 994 1439 701 \nQ 1688 409 2113 409 \nQ 2538 409 2786 701 \nQ 3034 994 3034 1497 \nQ 3034 2003 2786 2293 \nQ 2538 2584 2113 2584 \nz\nM 3366 4563 \nL 3366 3988 \nQ 3128 4100 2886 4159 \nQ 2644 4219 2406 4219 \nQ 1781 4219 1451 3797 \nQ 1122 3375 1075 2522 \nQ 1259 2794 1537 2939 \nQ 1816 3084 2150 3084 \nQ 2853 3084 3261 2657 \nQ 3669 2231 3669 1497 \nQ 3669 778 3244 343 \nQ 2819 -91 2113 -91 \nQ 1303 -91 875 529 \nQ 447 1150 447 2328 \nQ 447 3434 972 4092 \nQ 1497 4750 2381 4750 \nQ 2619 4750 2861 4703 \nQ 3103 4656 3366 4563 \nz\n\" id=\"DejaVuSans-36\" transform=\"scale(0.015625)\"/>\n       </defs>\n       <use xlink:href=\"#DejaVuSans-30\"/>\n       <use x=\"63.623047\" xlink:href=\"#DejaVuSans-2e\"/>\n       <use x=\"95.410156\" xlink:href=\"#DejaVuSans-36\"/>\n      </g>\n     </g>\n    </g>\n    <g id=\"ytick_5\">\n     <g id=\"line2d_10\">\n      <g>\n       <use style=\"stroke:#000000;stroke-width:0.8;\" x=\"43.78125\" xlink:href=\"#m5f220910ea\" y=\"56.618182\"/>\n      </g>\n     </g>\n     <g id=\"text_11\">\n      <!-- 0.8 -->\n      <g transform=\"translate(20.878125 60.417401)scale(0.1 -0.1)\">\n       <defs>\n        <path d=\"M 2034 2216 \nQ 1584 2216 1326 1975 \nQ 1069 1734 1069 1313 \nQ 1069 891 1326 650 \nQ 1584 409 2034 409 \nQ 2484 409 2743 651 \nQ 3003 894 3003 1313 \nQ 3003 1734 2745 1975 \nQ 2488 2216 2034 2216 \nz\nM 1403 2484 \nQ 997 2584 770 2862 \nQ 544 3141 544 3541 \nQ 544 4100 942 4425 \nQ 1341 4750 2034 4750 \nQ 2731 4750 3128 4425 \nQ 3525 4100 3525 3541 \nQ 3525 3141 3298 2862 \nQ 3072 2584 2669 2484 \nQ 3125 2378 3379 2068 \nQ 3634 1759 3634 1313 \nQ 3634 634 3220 271 \nQ 2806 -91 2034 -91 \nQ 1263 -91 848 271 \nQ 434 634 434 1313 \nQ 434 1759 690 2068 \nQ 947 2378 1403 2484 \nz\nM 1172 3481 \nQ 1172 3119 1398 2916 \nQ 1625 2713 2034 2713 \nQ 2441 2713 2670 2916 \nQ 2900 3119 2900 3481 \nQ 2900 3844 2670 4047 \nQ 2441 4250 2034 4250 \nQ 1625 4250 1398 4047 \nQ 1172 3844 1172 3481 \nz\n\" id=\"DejaVuSans-38\" transform=\"scale(0.015625)\"/>\n       </defs>\n       <use xlink:href=\"#DejaVuSans-30\"/>\n       <use x=\"63.623047\" xlink:href=\"#DejaVuSans-2e\"/>\n       <use x=\"95.410156\" xlink:href=\"#DejaVuSans-38\"/>\n      </g>\n     </g>\n    </g>\n    <g id=\"ytick_6\">\n     <g id=\"line2d_11\">\n      <g>\n       <use style=\"stroke:#000000;stroke-width:0.8;\" x=\"43.78125\" xlink:href=\"#m5f220910ea\" y=\"17.083636\"/>\n      </g>\n     </g>\n     <g id=\"text_12\">\n      <!-- 1.0 -->\n      <g transform=\"translate(20.878125 20.882855)scale(0.1 -0.1)\">\n       <defs>\n        <path d=\"M 794 531 \nL 1825 531 \nL 1825 4091 \nL 703 3866 \nL 703 4441 \nL 1819 4666 \nL 2450 4666 \nL 2450 531 \nL 3481 531 \nL 3481 0 \nL 794 0 \nL 794 531 \nz\n\" id=\"DejaVuSans-31\" transform=\"scale(0.015625)\"/>\n       </defs>\n       <use xlink:href=\"#DejaVuSans-31\"/>\n       <use x=\"63.623047\" xlink:href=\"#DejaVuSans-2e\"/>\n       <use x=\"95.410156\" xlink:href=\"#DejaVuSans-30\"/>\n      </g>\n     </g>\n    </g>\n    <g id=\"text_13\">\n     <!-- step function output -->\n     <g transform=\"translate(14.798438 166.829375)rotate(-90)scale(0.1 -0.1)\">\n      <defs>\n       <path d=\"M 2834 3397 \nL 2834 2853 \nQ 2591 2978 2328 3040 \nQ 2066 3103 1784 3103 \nQ 1356 3103 1142 2972 \nQ 928 2841 928 2578 \nQ 928 2378 1081 2264 \nQ 1234 2150 1697 2047 \nL 1894 2003 \nQ 2506 1872 2764 1633 \nQ 3022 1394 3022 966 \nQ 3022 478 2636 193 \nQ 2250 -91 1575 -91 \nQ 1294 -91 989 -36 \nQ 684 19 347 128 \nL 347 722 \nQ 666 556 975 473 \nQ 1284 391 1588 391 \nQ 1994 391 2212 530 \nQ 2431 669 2431 922 \nQ 2431 1156 2273 1281 \nQ 2116 1406 1581 1522 \nL 1381 1569 \nQ 847 1681 609 1914 \nQ 372 2147 372 2553 \nQ 372 3047 722 3315 \nQ 1072 3584 1716 3584 \nQ 2034 3584 2315 3537 \nQ 2597 3491 2834 3397 \nz\n\" id=\"DejaVuSans-73\" transform=\"scale(0.015625)\"/>\n       <path d=\"M 3597 1894 \nL 3597 1613 \nL 953 1613 \nQ 991 1019 1311 708 \nQ 1631 397 2203 397 \nQ 2534 397 2845 478 \nQ 3156 559 3463 722 \nL 3463 178 \nQ 3153 47 2828 -22 \nQ 2503 -91 2169 -91 \nQ 1331 -91 842 396 \nQ 353 884 353 1716 \nQ 353 2575 817 3079 \nQ 1281 3584 2069 3584 \nQ 2775 3584 3186 3129 \nQ 3597 2675 3597 1894 \nz\nM 3022 2063 \nQ 3016 2534 2758 2815 \nQ 2500 3097 2075 3097 \nQ 1594 3097 1305 2825 \nQ 1016 2553 972 2059 \nL 3022 2063 \nz\n\" id=\"DejaVuSans-65\" transform=\"scale(0.015625)\"/>\n       <path id=\"DejaVuSans-20\" transform=\"scale(0.015625)\"/>\n       <path d=\"M 2375 4863 \nL 2375 4384 \nL 1825 4384 \nQ 1516 4384 1395 4259 \nQ 1275 4134 1275 3809 \nL 1275 3500 \nL 2222 3500 \nL 2222 3053 \nL 1275 3053 \nL 1275 0 \nL 697 0 \nL 697 3053 \nL 147 3053 \nL 147 3500 \nL 697 3500 \nL 697 3744 \nQ 697 4328 969 4595 \nQ 1241 4863 1831 4863 \nL 2375 4863 \nz\n\" id=\"DejaVuSans-66\" transform=\"scale(0.015625)\"/>\n       <path d=\"M 3122 3366 \nL 3122 2828 \nQ 2878 2963 2633 3030 \nQ 2388 3097 2138 3097 \nQ 1578 3097 1268 2742 \nQ 959 2388 959 1747 \nQ 959 1106 1268 751 \nQ 1578 397 2138 397 \nQ 2388 397 2633 464 \nQ 2878 531 3122 666 \nL 3122 134 \nQ 2881 22 2623 -34 \nQ 2366 -91 2075 -91 \nQ 1284 -91 818 406 \nQ 353 903 353 1747 \nQ 353 2603 823 3093 \nQ 1294 3584 2113 3584 \nQ 2378 3584 2631 3529 \nQ 2884 3475 3122 3366 \nz\n\" id=\"DejaVuSans-63\" transform=\"scale(0.015625)\"/>\n       <path d=\"M 1959 3097 \nQ 1497 3097 1228 2736 \nQ 959 2375 959 1747 \nQ 959 1119 1226 758 \nQ 1494 397 1959 397 \nQ 2419 397 2687 759 \nQ 2956 1122 2956 1747 \nQ 2956 2369 2687 2733 \nQ 2419 3097 1959 3097 \nz\nM 1959 3584 \nQ 2709 3584 3137 3096 \nQ 3566 2609 3566 1747 \nQ 3566 888 3137 398 \nQ 2709 -91 1959 -91 \nQ 1206 -91 779 398 \nQ 353 888 353 1747 \nQ 353 2609 779 3096 \nQ 1206 3584 1959 3584 \nz\n\" id=\"DejaVuSans-6f\" transform=\"scale(0.015625)\"/>\n      </defs>\n      <use xlink:href=\"#DejaVuSans-73\"/>\n      <use x=\"52.099609\" xlink:href=\"#DejaVuSans-74\"/>\n      <use x=\"91.308594\" xlink:href=\"#DejaVuSans-65\"/>\n      <use x=\"152.832031\" xlink:href=\"#DejaVuSans-70\"/>\n      <use x=\"216.308594\" xlink:href=\"#DejaVuSans-20\"/>\n      <use x=\"248.095703\" xlink:href=\"#DejaVuSans-66\"/>\n      <use x=\"283.300781\" xlink:href=\"#DejaVuSans-75\"/>\n      <use x=\"346.679688\" xlink:href=\"#DejaVuSans-6e\"/>\n      <use x=\"410.058594\" xlink:href=\"#DejaVuSans-63\"/>\n      <use x=\"465.039062\" xlink:href=\"#DejaVuSans-74\"/>\n      <use x=\"504.248047\" xlink:href=\"#DejaVuSans-69\"/>\n      <use x=\"532.03125\" xlink:href=\"#DejaVuSans-6f\"/>\n      <use x=\"593.212891\" xlink:href=\"#DejaVuSans-6e\"/>\n      <use x=\"656.591797\" xlink:href=\"#DejaVuSans-20\"/>\n      <use x=\"688.378906\" xlink:href=\"#DejaVuSans-6f\"/>\n      <use x=\"749.560547\" xlink:href=\"#DejaVuSans-75\"/>\n      <use x=\"812.939453\" xlink:href=\"#DejaVuSans-74\"/>\n      <use x=\"852.148438\" xlink:href=\"#DejaVuSans-70\"/>\n      <use x=\"915.625\" xlink:href=\"#DejaVuSans-75\"/>\n      <use x=\"979.003906\" xlink:href=\"#DejaVuSans-74\"/>\n     </g>\n    </g>\n   </g>\n   <g id=\"line2d_12\">\n    <path clip-path=\"url(#pcca226aeae)\" d=\"M 58.999432 214.756364 \nL 62.073812 214.756364 \nL 65.148192 214.756364 \nL 68.222572 214.756364 \nL 71.296952 214.756364 \nL 74.371333 214.756364 \nL 77.445713 214.756364 \nL 80.520093 214.756364 \nL 83.594473 214.756364 \nL 86.668853 214.756364 \nL 89.743233 214.756364 \nL 92.817614 214.756364 \nL 95.891994 214.756364 \nL 98.966374 214.756364 \nL 102.040754 214.756364 \nL 105.115134 214.756364 \nL 108.189514 214.756364 \nL 111.263895 214.756364 \nL 114.338275 214.756364 \nL 117.412655 214.756364 \nL 120.487035 214.756364 \nL 123.561415 214.756364 \nL 126.635795 214.756364 \nL 129.710176 214.756364 \nL 132.784556 214.756364 \nL 135.858936 214.756364 \nL 138.933316 214.756364 \nL 142.007696 214.756364 \nL 145.082076 214.756364 \nL 148.156457 214.756364 \nL 151.230837 214.756364 \nL 154.305217 214.756364 \nL 157.379597 214.756364 \nL 160.453977 214.756364 \nL 163.528357 214.756364 \nL 166.602738 214.756364 \nL 169.677118 214.756364 \nL 172.751498 214.756364 \nL 175.825878 214.756364 \nL 178.900258 214.756364 \nL 181.974638 214.756364 \nL 185.049019 214.756364 \nL 188.123399 214.756364 \nL 191.197779 214.756364 \nL 194.272159 214.756364 \nL 197.346539 214.756364 \nL 200.420919 214.756364 \nL 203.4953 214.756364 \nL 206.56968 214.756364 \nL 209.64406 214.756364 \nL 212.71844 214.756364 \nL 215.79282 17.083636 \nL 218.8672 17.083636 \nL 221.941581 17.083636 \nL 225.015961 17.083636 \nL 228.090341 17.083636 \nL 231.164721 17.083636 \nL 234.239101 17.083636 \nL 237.313481 17.083636 \nL 240.387862 17.083636 \nL 243.462242 17.083636 \nL 246.536622 17.083636 \nL 249.611002 17.083636 \nL 252.685382 17.083636 \nL 255.759762 17.083636 \nL 258.834143 17.083636 \nL 261.908523 17.083636 \nL 264.982903 17.083636 \nL 268.057283 17.083636 \nL 271.131663 17.083636 \nL 274.206043 17.083636 \nL 277.280424 17.083636 \nL 280.354804 17.083636 \nL 283.429184 17.083636 \nL 286.503564 17.083636 \nL 289.577944 17.083636 \nL 292.652324 17.083636 \nL 295.726705 17.083636 \nL 298.801085 17.083636 \nL 301.875465 17.083636 \nL 304.949845 17.083636 \nL 308.024225 17.083636 \nL 311.098605 17.083636 \nL 314.172986 17.083636 \nL 317.247366 17.083636 \nL 320.321746 17.083636 \nL 323.396126 17.083636 \nL 326.470506 17.083636 \nL 329.544886 17.083636 \nL 332.619267 17.083636 \nL 335.693647 17.083636 \nL 338.768027 17.083636 \nL 341.842407 17.083636 \nL 344.916787 17.083636 \nL 347.991167 17.083636 \nL 351.065548 17.083636 \nL 354.139928 17.083636 \nL 357.214308 17.083636 \nL 360.288688 17.083636 \nL 363.363068 17.083636 \n\" style=\"fill:none;stroke:#1f77b4;stroke-linecap:square;stroke-width:1.5;\"/>\n   </g>\n   <g id=\"patch_3\">\n    <path d=\"M 43.78125 224.64 \nL 43.78125 7.2 \n\" style=\"fill:none;stroke:#000000;stroke-linecap:square;stroke-linejoin:miter;stroke-width:0.8;\"/>\n   </g>\n   <g id=\"patch_4\">\n    <path d=\"M 378.58125 224.64 \nL 378.58125 7.2 \n\" style=\"fill:none;stroke:#000000;stroke-linecap:square;stroke-linejoin:miter;stroke-width:0.8;\"/>\n   </g>\n   <g id=\"patch_5\">\n    <path d=\"M 43.78125 224.64 \nL 378.58125 224.64 \n\" style=\"fill:none;stroke:#000000;stroke-linecap:square;stroke-linejoin:miter;stroke-width:0.8;\"/>\n   </g>\n   <g id=\"patch_6\">\n    <path d=\"M 43.78125 7.2 \nL 378.58125 7.2 \n\" style=\"fill:none;stroke:#000000;stroke-linecap:square;stroke-linejoin:miter;stroke-width:0.8;\"/>\n   </g>\n  </g>\n </g>\n <defs>\n  <clipPath id=\"pcca226aeae\">\n   <rect height=\"217.44\" width=\"334.8\" x=\"43.78125\" y=\"7.2\"/>\n  </clipPath>\n </defs>\n</svg>\n",
      "image/png": "[encoded data removed]"
     },
     "metadata": {
      "needs_background": "light"
     }
    }
   ],
   "source": [
    "# Activation function\n",
    "# The activation function maps the input to the output. This example uses a step function where the output is 0 if the sum of the weighted input is less than 0, and 1 otherwise. A visualization of the function will help.\n",
    "\n",
    "import numpy as np\n",
    "import matplotlib.pyplot as plt\n",
    "\n",
    "# define the activation function\n",
    "unit_step = lambda x: 0 if x < 0 else 1\n",
    "\n",
    "# vectorize the function (use of an array)\n",
    "unit_step_v = np.vectorize(unit_step)\n",
    "\n",
    "# create arrays to plot\n",
    "x = np.arange(-5, 5, 0.1)\n",
    "y = unit_step_v(x)\n",
    "\n",
    "# plot\n",
    "plt.plot(x, y)\n",
    "plt.xlabel('input')\n",
    "plt.ylabel('step function output');\n"
   ]
  },
  {
   "cell_type": "code",
   "execution_count": 11,
   "metadata": {},
   "outputs": [],
   "source": [
    "# data ('OR' gate)\n",
    "# tuple format: ([x1, x2, bias], expected)\n",
    "training_data = [\n",
    "    (np.array([0,0,1]), 0),\n",
    "    (np.array([0,1,1]), 1),\n",
    "    (np.array([1,0,1]), 1),\n",
    "    (np.array([1,1,1]), 1)\n",
    "]"
   ]
  },
  {
   "cell_type": "code",
   "execution_count": 46,
   "metadata": {},
   "outputs": [
    {
     "output_type": "stream",
     "name": "stdout",
     "text": [
      "[0 0]: -0.02105017428861644 -> 0\n[0 1]: 0.3311756264981188 -> 1\n[1 0]: 0.28667196936244443 -> 1\n[1 1]: 0.6388977701491797 -> 1\n"
     ]
    }
   ],
   "source": [
    "# Perceptron code follows the example here, with\n",
    "# some modifications: \n",
    "# https://blog.dbrgn.ch/2013/3/26/perceptrons-in-python/\n",
    "\n",
    "# Imports\n",
    "#for random input selection\n",
    "from random import choice \n",
    "\n",
    "# Weights (begin with random weights)\n",
    "w = np.random.rand(3)\n",
    "\n",
    "# Errors (store for plotting)\n",
    "errors = []\n",
    "\n",
    "# Learning rate (the size of \"jumps\" when updating the weights)\n",
    "learn_rate = 0.2\n",
    "\n",
    "# Number of iterations/weight updates\n",
    "n = 50\n",
    "\n",
    "# \"Learning\" loop\n",
    "for i in range(n):\n",
    "\n",
    "    # Select a random item from the training data\n",
    "    x, expected = choice(training_data)\n",
    "\n",
    "    # Neuron calculation (dot product of weights and input)\n",
    "    result = np.dot(w, x)\n",
    "\n",
    "    # Compare to the expected result\n",
    "    error = expected - unit_step(result)\n",
    "    errors.append(error)\n",
    "\n",
    "    # Update the weights\n",
    "    w += learn_rate * error * x\n",
    "\n",
    "# Test the perceptron with the \"learned\" weights\n",
    "for x, _ in training_data:\n",
    "    result = np.dot(x, w)\n",
    "    print(\"{}: {} -> {}\".format(x[:2], result, unit_step(result)))"
   ]
  },
  {
   "cell_type": "code",
   "execution_count": 47,
   "metadata": {},
   "outputs": [
    {
     "output_type": "display_data",
     "data": {
      "text/plain": "<Figure size 432x288 with 1 Axes>",
      "image/svg+xml": "<?xml version=\"1.0\" encoding=\"utf-8\" standalone=\"no\"?>\n<!DOCTYPE svg PUBLIC \"-//W3C//DTD SVG 1.1//EN\"\n  \"http://www.w3.org/Graphics/SVG/1.1/DTD/svg11.dtd\">\n<svg height=\"262.19625pt\" version=\"1.1\" viewBox=\"0 0 394.160937 262.19625\" width=\"394.160937pt\" xmlns=\"http://www.w3.org/2000/svg\" xmlns:xlink=\"http://www.w3.org/1999/xlink\">\n <metadata>\n  <rdf:RDF xmlns:cc=\"http://creativecommons.org/ns#\" xmlns:dc=\"http://purl.org/dc/elements/1.1/\" xmlns:rdf=\"http://www.w3.org/1999/02/22-rdf-syntax-ns#\">\n   <cc:Work>\n    <dc:type rdf:resource=\"http://purl.org/dc/dcmitype/StillImage\"/>\n    <dc:date>2021-05-18T19:11:35.175726</dc:date>\n    <dc:format>image/svg+xml</dc:format>\n    <dc:creator>\n     <cc:Agent>\n      <dc:title>Matplotlib v3.4.1, https://matplotlib.org/</dc:title>\n     </cc:Agent>\n    </dc:creator>\n   </cc:Work>\n  </rdf:RDF>\n </metadata>\n <defs>\n  <style type=\"text/css\">*{stroke-linecap:butt;stroke-linejoin:round;}</style>\n </defs>\n <g id=\"figure_1\">\n  <g id=\"patch_1\">\n   <path d=\"M 0 262.19625 \nL 394.160937 262.19625 \nL 394.160937 0 \nL 0 0 \nz\n\" style=\"fill:none;\"/>\n  </g>\n  <g id=\"axes_1\">\n   <g id=\"patch_2\">\n    <path d=\"M 52.160938 224.64 \nL 386.960938 224.64 \nL 386.960938 7.2 \nL 52.160938 7.2 \nz\n\" style=\"fill:#ffffff;\"/>\n   </g>\n   <g id=\"matplotlib.axis_1\">\n    <g id=\"xtick_1\">\n     <g id=\"line2d_1\">\n      <defs>\n       <path d=\"M 0 0 \nL 0 3.5 \n\" id=\"m45fdb4aad6\" style=\"stroke:#000000;stroke-width:0.8;\"/>\n      </defs>\n      <g>\n       <use style=\"stroke:#000000;stroke-width:0.8;\" x=\"67.379119\" xlink:href=\"#m45fdb4aad6\" y=\"224.64\"/>\n      </g>\n     </g>\n     <g id=\"text_1\">\n      <!-- 0 -->\n      <g transform=\"translate(64.197869 239.238437)scale(0.1 -0.1)\">\n       <defs>\n        <path d=\"M 2034 4250 \nQ 1547 4250 1301 3770 \nQ 1056 3291 1056 2328 \nQ 1056 1369 1301 889 \nQ 1547 409 2034 409 \nQ 2525 409 2770 889 \nQ 3016 1369 3016 2328 \nQ 3016 3291 2770 3770 \nQ 2525 4250 2034 4250 \nz\nM 2034 4750 \nQ 2819 4750 3233 4129 \nQ 3647 3509 3647 2328 \nQ 3647 1150 3233 529 \nQ 2819 -91 2034 -91 \nQ 1250 -91 836 529 \nQ 422 1150 422 2328 \nQ 422 3509 836 4129 \nQ 1250 4750 2034 4750 \nz\n\" id=\"DejaVuSans-30\" transform=\"scale(0.015625)\"/>\n       </defs>\n       <use xlink:href=\"#DejaVuSans-30\"/>\n      </g>\n     </g>\n    </g>\n    <g id=\"xtick_2\">\n     <g id=\"line2d_2\">\n      <g>\n       <use style=\"stroke:#000000;stroke-width:0.8;\" x=\"129.494147\" xlink:href=\"#m45fdb4aad6\" y=\"224.64\"/>\n      </g>\n     </g>\n     <g id=\"text_2\">\n      <!-- 10 -->\n      <g transform=\"translate(123.131647 239.238437)scale(0.1 -0.1)\">\n       <defs>\n        <path d=\"M 794 531 \nL 1825 531 \nL 1825 4091 \nL 703 3866 \nL 703 4441 \nL 1819 4666 \nL 2450 4666 \nL 2450 531 \nL 3481 531 \nL 3481 0 \nL 794 0 \nL 794 531 \nz\n\" id=\"DejaVuSans-31\" transform=\"scale(0.015625)\"/>\n       </defs>\n       <use xlink:href=\"#DejaVuSans-31\"/>\n       <use x=\"63.623047\" xlink:href=\"#DejaVuSans-30\"/>\n      </g>\n     </g>\n    </g>\n    <g id=\"xtick_3\">\n     <g id=\"line2d_3\">\n      <g>\n       <use style=\"stroke:#000000;stroke-width:0.8;\" x=\"191.609175\" xlink:href=\"#m45fdb4aad6\" y=\"224.64\"/>\n      </g>\n     </g>\n     <g id=\"text_3\">\n      <!-- 20 -->\n      <g transform=\"translate(185.246675 239.238437)scale(0.1 -0.1)\">\n       <defs>\n        <path d=\"M 1228 531 \nL 3431 531 \nL 3431 0 \nL 469 0 \nL 469 531 \nQ 828 903 1448 1529 \nQ 2069 2156 2228 2338 \nQ 2531 2678 2651 2914 \nQ 2772 3150 2772 3378 \nQ 2772 3750 2511 3984 \nQ 2250 4219 1831 4219 \nQ 1534 4219 1204 4116 \nQ 875 4013 500 3803 \nL 500 4441 \nQ 881 4594 1212 4672 \nQ 1544 4750 1819 4750 \nQ 2544 4750 2975 4387 \nQ 3406 4025 3406 3419 \nQ 3406 3131 3298 2873 \nQ 3191 2616 2906 2266 \nQ 2828 2175 2409 1742 \nQ 1991 1309 1228 531 \nz\n\" id=\"DejaVuSans-32\" transform=\"scale(0.015625)\"/>\n       </defs>\n       <use xlink:href=\"#DejaVuSans-32\"/>\n       <use x=\"63.623047\" xlink:href=\"#DejaVuSans-30\"/>\n      </g>\n     </g>\n    </g>\n    <g id=\"xtick_4\">\n     <g id=\"line2d_4\">\n      <g>\n       <use style=\"stroke:#000000;stroke-width:0.8;\" x=\"253.724203\" xlink:href=\"#m45fdb4aad6\" y=\"224.64\"/>\n      </g>\n     </g>\n     <g id=\"text_4\">\n      <!-- 30 -->\n      <g transform=\"translate(247.361703 239.238437)scale(0.1 -0.1)\">\n       <defs>\n        <path d=\"M 2597 2516 \nQ 3050 2419 3304 2112 \nQ 3559 1806 3559 1356 \nQ 3559 666 3084 287 \nQ 2609 -91 1734 -91 \nQ 1441 -91 1130 -33 \nQ 819 25 488 141 \nL 488 750 \nQ 750 597 1062 519 \nQ 1375 441 1716 441 \nQ 2309 441 2620 675 \nQ 2931 909 2931 1356 \nQ 2931 1769 2642 2001 \nQ 2353 2234 1838 2234 \nL 1294 2234 \nL 1294 2753 \nL 1863 2753 \nQ 2328 2753 2575 2939 \nQ 2822 3125 2822 3475 \nQ 2822 3834 2567 4026 \nQ 2313 4219 1838 4219 \nQ 1578 4219 1281 4162 \nQ 984 4106 628 3988 \nL 628 4550 \nQ 988 4650 1302 4700 \nQ 1616 4750 1894 4750 \nQ 2613 4750 3031 4423 \nQ 3450 4097 3450 3541 \nQ 3450 3153 3228 2886 \nQ 3006 2619 2597 2516 \nz\n\" id=\"DejaVuSans-33\" transform=\"scale(0.015625)\"/>\n       </defs>\n       <use xlink:href=\"#DejaVuSans-33\"/>\n       <use x=\"63.623047\" xlink:href=\"#DejaVuSans-30\"/>\n      </g>\n     </g>\n    </g>\n    <g id=\"xtick_5\">\n     <g id=\"line2d_5\">\n      <g>\n       <use style=\"stroke:#000000;stroke-width:0.8;\" x=\"315.839231\" xlink:href=\"#m45fdb4aad6\" y=\"224.64\"/>\n      </g>\n     </g>\n     <g id=\"text_5\">\n      <!-- 40 -->\n      <g transform=\"translate(309.476731 239.238437)scale(0.1 -0.1)\">\n       <defs>\n        <path d=\"M 2419 4116 \nL 825 1625 \nL 2419 1625 \nL 2419 4116 \nz\nM 2253 4666 \nL 3047 4666 \nL 3047 1625 \nL 3713 1625 \nL 3713 1100 \nL 3047 1100 \nL 3047 0 \nL 2419 0 \nL 2419 1100 \nL 313 1100 \nL 313 1709 \nL 2253 4666 \nz\n\" id=\"DejaVuSans-34\" transform=\"scale(0.015625)\"/>\n       </defs>\n       <use xlink:href=\"#DejaVuSans-34\"/>\n       <use x=\"63.623047\" xlink:href=\"#DejaVuSans-30\"/>\n      </g>\n     </g>\n    </g>\n    <g id=\"xtick_6\">\n     <g id=\"line2d_6\">\n      <g>\n       <use style=\"stroke:#000000;stroke-width:0.8;\" x=\"377.954258\" xlink:href=\"#m45fdb4aad6\" y=\"224.64\"/>\n      </g>\n     </g>\n     <g id=\"text_6\">\n      <!-- 50 -->\n      <g transform=\"translate(371.591758 239.238437)scale(0.1 -0.1)\">\n       <defs>\n        <path d=\"M 691 4666 \nL 3169 4666 \nL 3169 4134 \nL 1269 4134 \nL 1269 2991 \nQ 1406 3038 1543 3061 \nQ 1681 3084 1819 3084 \nQ 2600 3084 3056 2656 \nQ 3513 2228 3513 1497 \nQ 3513 744 3044 326 \nQ 2575 -91 1722 -91 \nQ 1428 -91 1123 -41 \nQ 819 9 494 109 \nL 494 744 \nQ 775 591 1075 516 \nQ 1375 441 1709 441 \nQ 2250 441 2565 725 \nQ 2881 1009 2881 1497 \nQ 2881 1984 2565 2268 \nQ 2250 2553 1709 2553 \nQ 1456 2553 1204 2497 \nQ 953 2441 691 2322 \nL 691 4666 \nz\n\" id=\"DejaVuSans-35\" transform=\"scale(0.015625)\"/>\n       </defs>\n       <use xlink:href=\"#DejaVuSans-35\"/>\n       <use x=\"63.623047\" xlink:href=\"#DejaVuSans-30\"/>\n      </g>\n     </g>\n    </g>\n    <g id=\"text_7\">\n     <!-- iteration -->\n     <g transform=\"translate(198.438281 252.916562)scale(0.1 -0.1)\">\n      <defs>\n       <path d=\"M 603 3500 \nL 1178 3500 \nL 1178 0 \nL 603 0 \nL 603 3500 \nz\nM 603 4863 \nL 1178 4863 \nL 1178 4134 \nL 603 4134 \nL 603 4863 \nz\n\" id=\"DejaVuSans-69\" transform=\"scale(0.015625)\"/>\n       <path d=\"M 1172 4494 \nL 1172 3500 \nL 2356 3500 \nL 2356 3053 \nL 1172 3053 \nL 1172 1153 \nQ 1172 725 1289 603 \nQ 1406 481 1766 481 \nL 2356 481 \nL 2356 0 \nL 1766 0 \nQ 1100 0 847 248 \nQ 594 497 594 1153 \nL 594 3053 \nL 172 3053 \nL 172 3500 \nL 594 3500 \nL 594 4494 \nL 1172 4494 \nz\n\" id=\"DejaVuSans-74\" transform=\"scale(0.015625)\"/>\n       <path d=\"M 3597 1894 \nL 3597 1613 \nL 953 1613 \nQ 991 1019 1311 708 \nQ 1631 397 2203 397 \nQ 2534 397 2845 478 \nQ 3156 559 3463 722 \nL 3463 178 \nQ 3153 47 2828 -22 \nQ 2503 -91 2169 -91 \nQ 1331 -91 842 396 \nQ 353 884 353 1716 \nQ 353 2575 817 3079 \nQ 1281 3584 2069 3584 \nQ 2775 3584 3186 3129 \nQ 3597 2675 3597 1894 \nz\nM 3022 2063 \nQ 3016 2534 2758 2815 \nQ 2500 3097 2075 3097 \nQ 1594 3097 1305 2825 \nQ 1016 2553 972 2059 \nL 3022 2063 \nz\n\" id=\"DejaVuSans-65\" transform=\"scale(0.015625)\"/>\n       <path d=\"M 2631 2963 \nQ 2534 3019 2420 3045 \nQ 2306 3072 2169 3072 \nQ 1681 3072 1420 2755 \nQ 1159 2438 1159 1844 \nL 1159 0 \nL 581 0 \nL 581 3500 \nL 1159 3500 \nL 1159 2956 \nQ 1341 3275 1631 3429 \nQ 1922 3584 2338 3584 \nQ 2397 3584 2469 3576 \nQ 2541 3569 2628 3553 \nL 2631 2963 \nz\n\" id=\"DejaVuSans-72\" transform=\"scale(0.015625)\"/>\n       <path d=\"M 2194 1759 \nQ 1497 1759 1228 1600 \nQ 959 1441 959 1056 \nQ 959 750 1161 570 \nQ 1363 391 1709 391 \nQ 2188 391 2477 730 \nQ 2766 1069 2766 1631 \nL 2766 1759 \nL 2194 1759 \nz\nM 3341 1997 \nL 3341 0 \nL 2766 0 \nL 2766 531 \nQ 2569 213 2275 61 \nQ 1981 -91 1556 -91 \nQ 1019 -91 701 211 \nQ 384 513 384 1019 \nQ 384 1609 779 1909 \nQ 1175 2209 1959 2209 \nL 2766 2209 \nL 2766 2266 \nQ 2766 2663 2505 2880 \nQ 2244 3097 1772 3097 \nQ 1472 3097 1187 3025 \nQ 903 2953 641 2809 \nL 641 3341 \nQ 956 3463 1253 3523 \nQ 1550 3584 1831 3584 \nQ 2591 3584 2966 3190 \nQ 3341 2797 3341 1997 \nz\n\" id=\"DejaVuSans-61\" transform=\"scale(0.015625)\"/>\n       <path d=\"M 1959 3097 \nQ 1497 3097 1228 2736 \nQ 959 2375 959 1747 \nQ 959 1119 1226 758 \nQ 1494 397 1959 397 \nQ 2419 397 2687 759 \nQ 2956 1122 2956 1747 \nQ 2956 2369 2687 2733 \nQ 2419 3097 1959 3097 \nz\nM 1959 3584 \nQ 2709 3584 3137 3096 \nQ 3566 2609 3566 1747 \nQ 3566 888 3137 398 \nQ 2709 -91 1959 -91 \nQ 1206 -91 779 398 \nQ 353 888 353 1747 \nQ 353 2609 779 3096 \nQ 1206 3584 1959 3584 \nz\n\" id=\"DejaVuSans-6f\" transform=\"scale(0.015625)\"/>\n       <path d=\"M 3513 2113 \nL 3513 0 \nL 2938 0 \nL 2938 2094 \nQ 2938 2591 2744 2837 \nQ 2550 3084 2163 3084 \nQ 1697 3084 1428 2787 \nQ 1159 2491 1159 1978 \nL 1159 0 \nL 581 0 \nL 581 3500 \nL 1159 3500 \nL 1159 2956 \nQ 1366 3272 1645 3428 \nQ 1925 3584 2291 3584 \nQ 2894 3584 3203 3211 \nQ 3513 2838 3513 2113 \nz\n\" id=\"DejaVuSans-6e\" transform=\"scale(0.015625)\"/>\n      </defs>\n      <use xlink:href=\"#DejaVuSans-69\"/>\n      <use x=\"27.783203\" xlink:href=\"#DejaVuSans-74\"/>\n      <use x=\"66.992188\" xlink:href=\"#DejaVuSans-65\"/>\n      <use x=\"128.515625\" xlink:href=\"#DejaVuSans-72\"/>\n      <use x=\"169.628906\" xlink:href=\"#DejaVuSans-61\"/>\n      <use x=\"230.908203\" xlink:href=\"#DejaVuSans-74\"/>\n      <use x=\"270.117188\" xlink:href=\"#DejaVuSans-69\"/>\n      <use x=\"297.900391\" xlink:href=\"#DejaVuSans-6f\"/>\n      <use x=\"359.082031\" xlink:href=\"#DejaVuSans-6e\"/>\n     </g>\n    </g>\n   </g>\n   <g id=\"matplotlib.axis_2\">\n    <g id=\"ytick_1\">\n     <g id=\"line2d_7\">\n      <defs>\n       <path d=\"M 0 0 \nL -3.5 0 \n\" id=\"me0016ce2e6\" style=\"stroke:#000000;stroke-width:0.8;\"/>\n      </defs>\n      <g>\n       <use style=\"stroke:#000000;stroke-width:0.8;\" x=\"52.160938\" xlink:href=\"#me0016ce2e6\" y=\"214.756364\"/>\n      </g>\n     </g>\n     <g id=\"text_8\">\n      <!-- −1.0 -->\n      <g transform=\"translate(20.878125 218.555582)scale(0.1 -0.1)\">\n       <defs>\n        <path d=\"M 678 2272 \nL 4684 2272 \nL 4684 1741 \nL 678 1741 \nL 678 2272 \nz\n\" id=\"DejaVuSans-2212\" transform=\"scale(0.015625)\"/>\n        <path d=\"M 684 794 \nL 1344 794 \nL 1344 0 \nL 684 0 \nL 684 794 \nz\n\" id=\"DejaVuSans-2e\" transform=\"scale(0.015625)\"/>\n       </defs>\n       <use xlink:href=\"#DejaVuSans-2212\"/>\n       <use x=\"83.789062\" xlink:href=\"#DejaVuSans-31\"/>\n       <use x=\"147.412109\" xlink:href=\"#DejaVuSans-2e\"/>\n       <use x=\"179.199219\" xlink:href=\"#DejaVuSans-30\"/>\n      </g>\n     </g>\n    </g>\n    <g id=\"ytick_2\">\n     <g id=\"line2d_8\">\n      <g>\n       <use style=\"stroke:#000000;stroke-width:0.8;\" x=\"52.160938\" xlink:href=\"#me0016ce2e6\" y=\"175.221818\"/>\n      </g>\n     </g>\n     <g id=\"text_9\">\n      <!-- −0.8 -->\n      <g transform=\"translate(20.878125 179.021037)scale(0.1 -0.1)\">\n       <defs>\n        <path d=\"M 2034 2216 \nQ 1584 2216 1326 1975 \nQ 1069 1734 1069 1313 \nQ 1069 891 1326 650 \nQ 1584 409 2034 409 \nQ 2484 409 2743 651 \nQ 3003 894 3003 1313 \nQ 3003 1734 2745 1975 \nQ 2488 2216 2034 2216 \nz\nM 1403 2484 \nQ 997 2584 770 2862 \nQ 544 3141 544 3541 \nQ 544 4100 942 4425 \nQ 1341 4750 2034 4750 \nQ 2731 4750 3128 4425 \nQ 3525 4100 3525 3541 \nQ 3525 3141 3298 2862 \nQ 3072 2584 2669 2484 \nQ 3125 2378 3379 2068 \nQ 3634 1759 3634 1313 \nQ 3634 634 3220 271 \nQ 2806 -91 2034 -91 \nQ 1263 -91 848 271 \nQ 434 634 434 1313 \nQ 434 1759 690 2068 \nQ 947 2378 1403 2484 \nz\nM 1172 3481 \nQ 1172 3119 1398 2916 \nQ 1625 2713 2034 2713 \nQ 2441 2713 2670 2916 \nQ 2900 3119 2900 3481 \nQ 2900 3844 2670 4047 \nQ 2441 4250 2034 4250 \nQ 1625 4250 1398 4047 \nQ 1172 3844 1172 3481 \nz\n\" id=\"DejaVuSans-38\" transform=\"scale(0.015625)\"/>\n       </defs>\n       <use xlink:href=\"#DejaVuSans-2212\"/>\n       <use x=\"83.789062\" xlink:href=\"#DejaVuSans-30\"/>\n       <use x=\"147.412109\" xlink:href=\"#DejaVuSans-2e\"/>\n       <use x=\"179.199219\" xlink:href=\"#DejaVuSans-38\"/>\n      </g>\n     </g>\n    </g>\n    <g id=\"ytick_3\">\n     <g id=\"line2d_9\">\n      <g>\n       <use style=\"stroke:#000000;stroke-width:0.8;\" x=\"52.160938\" xlink:href=\"#me0016ce2e6\" y=\"135.687273\"/>\n      </g>\n     </g>\n     <g id=\"text_10\">\n      <!-- −0.6 -->\n      <g transform=\"translate(20.878125 139.486491)scale(0.1 -0.1)\">\n       <defs>\n        <path d=\"M 2113 2584 \nQ 1688 2584 1439 2293 \nQ 1191 2003 1191 1497 \nQ 1191 994 1439 701 \nQ 1688 409 2113 409 \nQ 2538 409 2786 701 \nQ 3034 994 3034 1497 \nQ 3034 2003 2786 2293 \nQ 2538 2584 2113 2584 \nz\nM 3366 4563 \nL 3366 3988 \nQ 3128 4100 2886 4159 \nQ 2644 4219 2406 4219 \nQ 1781 4219 1451 3797 \nQ 1122 3375 1075 2522 \nQ 1259 2794 1537 2939 \nQ 1816 3084 2150 3084 \nQ 2853 3084 3261 2657 \nQ 3669 2231 3669 1497 \nQ 3669 778 3244 343 \nQ 2819 -91 2113 -91 \nQ 1303 -91 875 529 \nQ 447 1150 447 2328 \nQ 447 3434 972 4092 \nQ 1497 4750 2381 4750 \nQ 2619 4750 2861 4703 \nQ 3103 4656 3366 4563 \nz\n\" id=\"DejaVuSans-36\" transform=\"scale(0.015625)\"/>\n       </defs>\n       <use xlink:href=\"#DejaVuSans-2212\"/>\n       <use x=\"83.789062\" xlink:href=\"#DejaVuSans-30\"/>\n       <use x=\"147.412109\" xlink:href=\"#DejaVuSans-2e\"/>\n       <use x=\"179.199219\" xlink:href=\"#DejaVuSans-36\"/>\n      </g>\n     </g>\n    </g>\n    <g id=\"ytick_4\">\n     <g id=\"line2d_10\">\n      <g>\n       <use style=\"stroke:#000000;stroke-width:0.8;\" x=\"52.160938\" xlink:href=\"#me0016ce2e6\" y=\"96.152727\"/>\n      </g>\n     </g>\n     <g id=\"text_11\">\n      <!-- −0.4 -->\n      <g transform=\"translate(20.878125 99.951946)scale(0.1 -0.1)\">\n       <use xlink:href=\"#DejaVuSans-2212\"/>\n       <use x=\"83.789062\" xlink:href=\"#DejaVuSans-30\"/>\n       <use x=\"147.412109\" xlink:href=\"#DejaVuSans-2e\"/>\n       <use x=\"179.199219\" xlink:href=\"#DejaVuSans-34\"/>\n      </g>\n     </g>\n    </g>\n    <g id=\"ytick_5\">\n     <g id=\"line2d_11\">\n      <g>\n       <use style=\"stroke:#000000;stroke-width:0.8;\" x=\"52.160938\" xlink:href=\"#me0016ce2e6\" y=\"56.618182\"/>\n      </g>\n     </g>\n     <g id=\"text_12\">\n      <!-- −0.2 -->\n      <g transform=\"translate(20.878125 60.417401)scale(0.1 -0.1)\">\n       <use xlink:href=\"#DejaVuSans-2212\"/>\n       <use x=\"83.789062\" xlink:href=\"#DejaVuSans-30\"/>\n       <use x=\"147.412109\" xlink:href=\"#DejaVuSans-2e\"/>\n       <use x=\"179.199219\" xlink:href=\"#DejaVuSans-32\"/>\n      </g>\n     </g>\n    </g>\n    <g id=\"ytick_6\">\n     <g id=\"line2d_12\">\n      <g>\n       <use style=\"stroke:#000000;stroke-width:0.8;\" x=\"52.160938\" xlink:href=\"#me0016ce2e6\" y=\"17.083636\"/>\n      </g>\n     </g>\n     <g id=\"text_13\">\n      <!-- 0.0 -->\n      <g transform=\"translate(29.257812 20.882855)scale(0.1 -0.1)\">\n       <use xlink:href=\"#DejaVuSans-30\"/>\n       <use x=\"63.623047\" xlink:href=\"#DejaVuSans-2e\"/>\n       <use x=\"95.410156\" xlink:href=\"#DejaVuSans-30\"/>\n      </g>\n     </g>\n    </g>\n    <g id=\"text_14\">\n     <!-- error -->\n     <g transform=\"translate(14.798438 128.022344)rotate(-90)scale(0.1 -0.1)\">\n      <use xlink:href=\"#DejaVuSans-65\"/>\n      <use x=\"61.523438\" xlink:href=\"#DejaVuSans-72\"/>\n      <use x=\"100.886719\" xlink:href=\"#DejaVuSans-72\"/>\n      <use x=\"139.75\" xlink:href=\"#DejaVuSans-6f\"/>\n      <use x=\"200.931641\" xlink:href=\"#DejaVuSans-72\"/>\n     </g>\n    </g>\n   </g>\n   <g id=\"line2d_13\">\n    <path clip-path=\"url(#p973a72cc8f)\" d=\"M 67.379119 17.083636 \nL 73.590622 17.083636 \nL 79.802125 214.756364 \nL 86.013628 17.083636 \nL 92.22513 17.083636 \nL 98.436633 17.083636 \nL 104.648136 214.756364 \nL 110.859639 17.083636 \nL 117.071142 17.083636 \nL 123.282644 17.083636 \nL 129.494147 17.083636 \nL 135.70565 17.083636 \nL 141.917153 17.083636 \nL 148.128655 17.083636 \nL 154.340158 17.083636 \nL 160.551661 17.083636 \nL 166.763164 17.083636 \nL 172.974667 17.083636 \nL 179.186169 17.083636 \nL 185.397672 17.083636 \nL 191.609175 17.083636 \nL 197.820678 17.083636 \nL 204.032181 17.083636 \nL 210.243683 17.083636 \nL 216.455186 17.083636 \nL 222.666689 17.083636 \nL 228.878192 17.083636 \nL 235.089694 17.083636 \nL 241.301197 17.083636 \nL 247.5127 17.083636 \nL 253.724203 17.083636 \nL 259.935706 17.083636 \nL 266.147208 17.083636 \nL 272.358711 17.083636 \nL 278.570214 17.083636 \nL 284.781717 17.083636 \nL 290.99322 17.083636 \nL 297.204722 17.083636 \nL 303.416225 17.083636 \nL 309.627728 17.083636 \nL 315.839231 17.083636 \nL 322.050733 17.083636 \nL 328.262236 17.083636 \nL 334.473739 17.083636 \nL 340.685242 17.083636 \nL 346.896745 17.083636 \nL 353.108247 17.083636 \nL 359.31975 17.083636 \nL 365.531253 17.083636 \nL 371.742756 17.083636 \n\" style=\"fill:none;stroke:#1f77b4;stroke-linecap:square;stroke-width:1.5;\"/>\n   </g>\n   <g id=\"patch_3\">\n    <path d=\"M 52.160938 224.64 \nL 52.160938 7.2 \n\" style=\"fill:none;stroke:#000000;stroke-linecap:square;stroke-linejoin:miter;stroke-width:0.8;\"/>\n   </g>\n   <g id=\"patch_4\">\n    <path d=\"M 386.960938 224.64 \nL 386.960938 7.2 \n\" style=\"fill:none;stroke:#000000;stroke-linecap:square;stroke-linejoin:miter;stroke-width:0.8;\"/>\n   </g>\n   <g id=\"patch_5\">\n    <path d=\"M 52.160938 224.64 \nL 386.960938 224.64 \n\" style=\"fill:none;stroke:#000000;stroke-linecap:square;stroke-linejoin:miter;stroke-width:0.8;\"/>\n   </g>\n   <g id=\"patch_6\">\n    <path d=\"M 52.160938 7.2 \nL 386.960938 7.2 \n\" style=\"fill:none;stroke:#000000;stroke-linecap:square;stroke-linejoin:miter;stroke-width:0.8;\"/>\n   </g>\n  </g>\n </g>\n <defs>\n  <clipPath id=\"p973a72cc8f\">\n   <rect height=\"217.44\" width=\"334.8\" x=\"52.160938\" y=\"7.2\"/>\n  </clipPath>\n </defs>\n</svg>\n",
      "image/png": "[encoded data removed]"
     },
     "metadata": {
      "needs_background": "light"
     }
    }
   ],
   "source": [
    " # plot error as a function of iteration\n",
    "\n",
    "iteration = np.arange(0, n, 1)\n",
    "plt.plot(iteration, errors)\n",
    "plt.xlabel('iteration')\n",
    "plt.ylabel('error');"
   ]
  },
  {
   "cell_type": "code",
   "execution_count": 48,
   "metadata": {},
   "outputs": [
    {
     "output_type": "execute_result",
     "data": {
      "text/plain": [
       "[(array([0, 0, 1]), 0),\n",
       " (array([0, 1, 1]), 1),\n",
       " (array([1, 0, 1]), 1),\n",
       " (array([1, 1, 1]), 1)]"
      ]
     },
     "metadata": {},
     "execution_count": 48
    }
   ],
   "source": [
    "training_data"
   ]
  },
  {
   "source": [
    "# Objective 02 - introduce the Keras Sequential Model API\n",
    "\n",
    "Keras Classes\n",
    "This library provides a simple way to create and train neural networks. We'll be using the sequential model class (tf.keras.models.Sequential()) and will add layers with the layer activation functions (model.add(layers.Dense()). After the model is created, we need to compile it with the model training class (Model.compile()).\n",
    "\n",
    "Before we create a more complicated keras model, we'll reproduce the perceptron model that we coded up in the previous objective.\n",
    "\n",
    "The basic process that we'll follow is very similar to how we fit models in Unit 2:\n",
    "\n",
    "```\n",
    "Load Data\n",
    "Define Model\n",
    "Compile Model\n",
    "Fit Model\n",
    "Evaluate Model\n",
    "```\n",
    "\n"
   ],
   "cell_type": "markdown",
   "metadata": {}
  },
  {
   "cell_type": "code",
   "execution_count": 49,
   "metadata": {},
   "outputs": [
    {
     "output_type": "display_data",
     "data": {
      "text/plain": "   x1  x2  y\n0   0   0  0\n1   1   0  1\n2   0   1  1\n3   1   1  1",
      "text/html": "<div>\n<style scoped>\n    .dataframe tbody tr th:only-of-type {\n        vertical-align: middle;\n    }\n\n    .dataframe tbody tr th {\n        vertical-align: top;\n    }\n\n    .dataframe thead th {\n        text-align: right;\n    }\n</style>\n<table border=\"1\" class=\"dataframe\">\n  <thead>\n    <tr style=\"text-align: right;\">\n      <th></th>\n      <th>x1</th>\n      <th>x2</th>\n      <th>y</th>\n    </tr>\n  </thead>\n  <tbody>\n    <tr>\n      <th>0</th>\n      <td>0</td>\n      <td>0</td>\n      <td>0</td>\n    </tr>\n    <tr>\n      <th>1</th>\n      <td>1</td>\n      <td>0</td>\n      <td>1</td>\n    </tr>\n    <tr>\n      <th>2</th>\n      <td>0</td>\n      <td>1</td>\n      <td>1</td>\n    </tr>\n    <tr>\n      <th>3</th>\n      <td>1</td>\n      <td>1</td>\n      <td>1</td>\n    </tr>\n  </tbody>\n</table>\n</div>"
     },
     "metadata": {}
    }
   ],
   "source": [
    "# import \n",
    "import pandas as pd\n",
    "\n",
    "# create the OR operator\n",
    "data = {\n",
    "    'x1': [0,1,0,1],\n",
    "    'x2': [0,0,1,1],\n",
    "    'y': [0,1,1,1],\n",
    "}\n",
    "\n",
    "df = pd.DataFrame.from_dict(data).astype('int')\n",
    "display(df.head())\n",
    "\n",
    "# Separate feature and target\n",
    "X = df[['x1', 'x2']].values\n",
    "y = df['y'].values"
   ]
  },
  {
   "cell_type": "code",
   "execution_count": 53,
   "metadata": {},
   "outputs": [
    {
     "output_type": "stream",
     "name": "stdout",
     "text": [
      "Epoch 1/10\n",
      "1/1 [==============================] - 0s 220ms/step - loss: 1.0913 - accuracy: 0.2500\n",
      "Epoch 2/10\n",
      "1/1 [==============================] - 0s 1ms/step - loss: 1.0902 - accuracy: 0.0000e+00\n",
      "Epoch 3/10\n",
      "1/1 [==============================] - 0s 1ms/step - loss: 1.0891 - accuracy: 0.0000e+00\n",
      "Epoch 4/10\n",
      "1/1 [==============================] - 0s 1ms/step - loss: 1.0880 - accuracy: 0.0000e+00\n",
      "Epoch 5/10\n",
      "1/1 [==============================] - 0s 1ms/step - loss: 1.0869 - accuracy: 0.0000e+00\n",
      "Epoch 6/10\n",
      "1/1 [==============================] - 0s 1ms/step - loss: 1.0858 - accuracy: 0.0000e+00\n",
      "Epoch 7/10\n",
      "1/1 [==============================] - 0s 1ms/step - loss: 1.0846 - accuracy: 0.0000e+00\n",
      "Epoch 8/10\n",
      "1/1 [==============================] - 0s 1ms/step - loss: 1.0835 - accuracy: 0.0000e+00\n",
      "Epoch 9/10\n",
      "1/1 [==============================] - 0s 1ms/step - loss: 1.0824 - accuracy: 0.0000e+00\n",
      "Epoch 10/10\n",
      "1/1 [==============================] - 0s 1ms/step - loss: 1.0813 - accuracy: 0.0000e+00\n"
     ]
    },
    {
     "output_type": "execute_result",
     "data": {
      "text/plain": [
       "<tensorflow.python.keras.callbacks.History at 0x7f8c69f1a780>"
      ]
     },
     "metadata": {},
     "execution_count": 53
    }
   ],
   "source": [
    "# Keras Perceptron\n",
    "# Now we'll use keras to create the perceptron model. We have one layer, which is both the input layer and the output layer.\n",
    "\n",
    "# import keras classes\n",
    "from tensorflow.keras.models import Sequential\n",
    "from tensorflow.keras.layers import Dense\n",
    "\n",
    "# Perceptron model\n",
    "# PS: seems like the sequence is to \n",
    "# initialize, add, compile, fit \n",
    "model = Sequential()\n",
    "model.add(Dense(1, input_dim=2, activation='sigmoid'))\n",
    "model.compile(loss='binary_crossentropy', optimizer='adam', metrics=['accuracy'])\n",
    "model.fit(X, y, epochs=10)\n",
    "\n"
   ]
  },
  {
   "cell_type": "code",
   "execution_count": 54,
   "metadata": {},
   "outputs": [
    {
     "output_type": "stream",
     "name": "stdout",
     "text": [
      "1/1 [==============================] - 0s 76ms/step - loss: 1.0802 - accuracy: 0.0000e+00\n",
      "Model Accuracy:  0.0\n"
     ]
    }
   ],
   "source": [
    "# evaluate the model\n",
    "print(\"Model Accuracy: \", model.evaluate(X, y)[1]*100)"
   ]
  },
  {
   "source": [
    "Follow Along\n",
    "We'll test out keras with the Pima Indians diabetes dataset. Recall that this dataset uses various health metrics to predict if a certain individual will have the specified disease, in this case diabetes. The dataset information is available [here](https://raw.githubusercontent.com/jbrownlee/Datasets/master/pima-indians-diabetes.names (Links to an external site.)\n",
    ") and the link to the csv is in the code cell below.\n",
    "\n",
    "Data Parameters\n",
    "We have eight input variables (features) that we're using to predict if the presence of the disease has been tested as positive (0-no, 1-yes). As usual, we'll load the data and separate it into training and testing sets.\n",
    "\n"
   ],
   "cell_type": "markdown",
   "metadata": {}
  },
  {
   "cell_type": "code",
   "execution_count": 55,
   "metadata": {},
   "outputs": [],
   "source": [
    "# import the Pima Indians diabetes dataset\n",
    "import numpy as np\n",
    "\n",
    "# set the URL for the data location\n",
    "url = 'https://raw.githubusercontent.com/jbrownlee/Datasets/master/pima-indians-diabetes.data.csv'\n",
    "\n",
    "# load the dataset as a numpy array\n",
    "dataset = np.loadtxt(url, delimiter=',')\n",
    "\n",
    "# split into input(X) and output(y) variables\n",
    "# (8 input columns, 1 target column)\n",
    "X = dataset[:, 0:8]\n",
    "y = dataset[:, 8]"
   ]
  },
  {
   "cell_type": "code",
   "execution_count": 56,
   "metadata": {},
   "outputs": [],
   "source": [
    "# define the keras model\n",
    "model = Sequential()\n",
    "\n",
    "# add three layers, one input and two hidden\n",
    "model.add(Dense(12, input_dim=8, activation='relu'))\n",
    "model.add(Dense(8, activation='relu'))\n",
    "model.add(Dense(1, activation='sigmoid'))"
   ]
  },
  {
   "cell_type": "code",
   "execution_count": 57,
   "metadata": {},
   "outputs": [],
   "source": [
    "# compile the keras model\n",
    "model.compile(loss='binary_crossentropy', optimizer='adam', metrics=['accuracy'])"
   ]
  },
  {
   "cell_type": "code",
   "execution_count": 59,
   "metadata": {},
   "outputs": [
    {
     "output_type": "stream",
     "name": "stdout",
     "text": [
      "Epoch 1/100\n",
      "77/77 [==============================] - 0s 455us/step - loss: 0.5296 - accuracy: 0.7500\n",
      "Epoch 2/100\n",
      "77/77 [==============================] - 0s 454us/step - loss: 0.5181 - accuracy: 0.7409\n",
      "Epoch 3/100\n",
      "77/77 [==============================] - 0s 451us/step - loss: 0.5186 - accuracy: 0.7591\n",
      "Epoch 4/100\n",
      "77/77 [==============================] - 0s 455us/step - loss: 0.5135 - accuracy: 0.7513\n",
      "Epoch 5/100\n",
      "77/77 [==============================] - 0s 460us/step - loss: 0.5401 - accuracy: 0.7409\n",
      "Epoch 6/100\n",
      "77/77 [==============================] - 0s 442us/step - loss: 0.5448 - accuracy: 0.7240\n",
      "Epoch 7/100\n",
      "77/77 [==============================] - 0s 455us/step - loss: 0.5350 - accuracy: 0.7383\n",
      "Epoch 8/100\n",
      "77/77 [==============================] - 0s 457us/step - loss: 0.5227 - accuracy: 0.7318\n",
      "Epoch 9/100\n",
      "77/77 [==============================] - 0s 458us/step - loss: 0.5169 - accuracy: 0.7448\n",
      "Epoch 10/100\n",
      "77/77 [==============================] - 0s 453us/step - loss: 0.5494 - accuracy: 0.7214\n",
      "Epoch 11/100\n",
      "77/77 [==============================] - 0s 454us/step - loss: 0.5487 - accuracy: 0.7266\n",
      "Epoch 12/100\n",
      "77/77 [==============================] - 0s 456us/step - loss: 0.5505 - accuracy: 0.7383\n",
      "Epoch 13/100\n",
      "77/77 [==============================] - 0s 443us/step - loss: 0.5122 - accuracy: 0.7578\n",
      "Epoch 14/100\n",
      "77/77 [==============================] - 0s 461us/step - loss: 0.5388 - accuracy: 0.7513\n",
      "Epoch 15/100\n",
      "77/77 [==============================] - 0s 452us/step - loss: 0.5159 - accuracy: 0.7435\n",
      "Epoch 16/100\n",
      "77/77 [==============================] - 0s 462us/step - loss: 0.5142 - accuracy: 0.7461\n",
      "Epoch 17/100\n",
      "77/77 [==============================] - 0s 456us/step - loss: 0.5407 - accuracy: 0.7409\n",
      "Epoch 18/100\n",
      "77/77 [==============================] - 0s 451us/step - loss: 0.5467 - accuracy: 0.7292\n",
      "Epoch 19/100\n",
      "77/77 [==============================] - 0s 450us/step - loss: 0.5203 - accuracy: 0.7487\n",
      "Epoch 20/100\n",
      "77/77 [==============================] - 0s 455us/step - loss: 0.5180 - accuracy: 0.7474\n",
      "Epoch 21/100\n",
      "77/77 [==============================] - 0s 445us/step - loss: 0.5076 - accuracy: 0.7591\n",
      "Epoch 22/100\n",
      "77/77 [==============================] - 0s 452us/step - loss: 0.5248 - accuracy: 0.7513\n",
      "Epoch 23/100\n",
      "77/77 [==============================] - 0s 449us/step - loss: 0.5229 - accuracy: 0.7630\n",
      "Epoch 24/100\n",
      "77/77 [==============================] - 0s 447us/step - loss: 0.5505 - accuracy: 0.7161\n",
      "Epoch 25/100\n",
      "77/77 [==============================] - 0s 445us/step - loss: 0.5391 - accuracy: 0.7305\n",
      "Epoch 26/100\n",
      "77/77 [==============================] - 0s 447us/step - loss: 0.5024 - accuracy: 0.7604\n",
      "Epoch 27/100\n",
      "77/77 [==============================] - 0s 452us/step - loss: 0.5099 - accuracy: 0.7656\n",
      "Epoch 28/100\n",
      "77/77 [==============================] - 0s 467us/step - loss: 0.5075 - accuracy: 0.7474\n",
      "Epoch 29/100\n",
      "77/77 [==============================] - 0s 447us/step - loss: 0.5690 - accuracy: 0.7174\n",
      "Epoch 30/100\n",
      "77/77 [==============================] - 0s 454us/step - loss: 0.5211 - accuracy: 0.7448\n",
      "Epoch 31/100\n",
      "77/77 [==============================] - 0s 447us/step - loss: 0.5479 - accuracy: 0.7331\n",
      "Epoch 32/100\n",
      "77/77 [==============================] - 0s 456us/step - loss: 0.5061 - accuracy: 0.7760\n",
      "Epoch 33/100\n",
      "77/77 [==============================] - 0s 467us/step - loss: 0.5224 - accuracy: 0.7461\n",
      "Epoch 34/100\n",
      "77/77 [==============================] - 0s 458us/step - loss: 0.5188 - accuracy: 0.7396\n",
      "Epoch 35/100\n",
      "77/77 [==============================] - 0s 455us/step - loss: 0.5163 - accuracy: 0.7422\n",
      "Epoch 36/100\n",
      "77/77 [==============================] - 0s 452us/step - loss: 0.5046 - accuracy: 0.7461\n",
      "Epoch 37/100\n",
      "77/77 [==============================] - 0s 465us/step - loss: 0.5687 - accuracy: 0.7305\n",
      "Epoch 38/100\n",
      "77/77 [==============================] - 0s 464us/step - loss: 0.4982 - accuracy: 0.7695\n",
      "Epoch 39/100\n",
      "77/77 [==============================] - 0s 455us/step - loss: 0.5124 - accuracy: 0.7565\n",
      "Epoch 40/100\n",
      "77/77 [==============================] - 0s 453us/step - loss: 0.5544 - accuracy: 0.7331\n",
      "Epoch 41/100\n",
      "77/77 [==============================] - 0s 454us/step - loss: 0.5120 - accuracy: 0.7565\n",
      "Epoch 42/100\n",
      "77/77 [==============================] - 0s 450us/step - loss: 0.5141 - accuracy: 0.7552\n",
      "Epoch 43/100\n",
      "77/77 [==============================] - 0s 462us/step - loss: 0.5131 - accuracy: 0.7539\n",
      "Epoch 44/100\n",
      "77/77 [==============================] - 0s 468us/step - loss: 0.4981 - accuracy: 0.7591\n",
      "Epoch 45/100\n",
      "77/77 [==============================] - 0s 458us/step - loss: 0.4856 - accuracy: 0.7682\n",
      "Epoch 46/100\n",
      "77/77 [==============================] - 0s 461us/step - loss: 0.4991 - accuracy: 0.7552\n",
      "Epoch 47/100\n",
      "77/77 [==============================] - 0s 479us/step - loss: 0.5519 - accuracy: 0.7487\n",
      "Epoch 48/100\n",
      "77/77 [==============================] - 0s 465us/step - loss: 0.5318 - accuracy: 0.7487\n",
      "Epoch 49/100\n",
      "77/77 [==============================] - 0s 461us/step - loss: 0.5178 - accuracy: 0.7552\n",
      "Epoch 50/100\n",
      "77/77 [==============================] - 0s 459us/step - loss: 0.5086 - accuracy: 0.7500\n",
      "Epoch 51/100\n",
      "77/77 [==============================] - 0s 459us/step - loss: 0.5030 - accuracy: 0.7604\n",
      "Epoch 52/100\n",
      "77/77 [==============================] - 0s 460us/step - loss: 0.5117 - accuracy: 0.7487\n",
      "Epoch 53/100\n",
      "77/77 [==============================] - 0s 452us/step - loss: 0.5094 - accuracy: 0.7669\n",
      "Epoch 54/100\n",
      "77/77 [==============================] - 0s 459us/step - loss: 0.5178 - accuracy: 0.7474\n",
      "Epoch 55/100\n",
      "77/77 [==============================] - 0s 458us/step - loss: 0.5447 - accuracy: 0.7292\n",
      "Epoch 56/100\n",
      "77/77 [==============================] - 0s 465us/step - loss: 0.4934 - accuracy: 0.7669\n",
      "Epoch 57/100\n",
      "77/77 [==============================] - 0s 481us/step - loss: 0.5214 - accuracy: 0.7370\n",
      "Epoch 58/100\n",
      "77/77 [==============================] - 0s 457us/step - loss: 0.4866 - accuracy: 0.7721\n",
      "Epoch 59/100\n",
      "77/77 [==============================] - 0s 459us/step - loss: 0.4994 - accuracy: 0.7682\n",
      "Epoch 60/100\n",
      "77/77 [==============================] - 0s 455us/step - loss: 0.4939 - accuracy: 0.7617\n",
      "Epoch 61/100\n",
      "77/77 [==============================] - 0s 467us/step - loss: 0.5055 - accuracy: 0.7604\n",
      "Epoch 62/100\n",
      "77/77 [==============================] - 0s 465us/step - loss: 0.5326 - accuracy: 0.7448\n",
      "Epoch 63/100\n",
      "77/77 [==============================] - 0s 455us/step - loss: 0.5042 - accuracy: 0.7591\n",
      "Epoch 64/100\n",
      "77/77 [==============================] - 0s 449us/step - loss: 0.5343 - accuracy: 0.7461\n",
      "Epoch 65/100\n",
      "77/77 [==============================] - 0s 446us/step - loss: 0.5033 - accuracy: 0.7656\n",
      "Epoch 66/100\n",
      "77/77 [==============================] - 0s 453us/step - loss: 0.4993 - accuracy: 0.7539\n",
      "Epoch 67/100\n",
      "77/77 [==============================] - 0s 449us/step - loss: 0.4836 - accuracy: 0.7721\n",
      "Epoch 68/100\n",
      "77/77 [==============================] - 0s 453us/step - loss: 0.5033 - accuracy: 0.7591\n",
      "Epoch 69/100\n",
      "77/77 [==============================] - 0s 451us/step - loss: 0.5089 - accuracy: 0.7708\n",
      "Epoch 70/100\n",
      "77/77 [==============================] - 0s 452us/step - loss: 0.5551 - accuracy: 0.7318\n",
      "Epoch 71/100\n",
      "77/77 [==============================] - 0s 463us/step - loss: 0.5074 - accuracy: 0.7526\n",
      "Epoch 72/100\n",
      "77/77 [==============================] - 0s 454us/step - loss: 0.5009 - accuracy: 0.7630\n",
      "Epoch 73/100\n",
      "77/77 [==============================] - 0s 453us/step - loss: 0.4926 - accuracy: 0.7552\n",
      "Epoch 74/100\n",
      "77/77 [==============================] - 0s 461us/step - loss: 0.4938 - accuracy: 0.7695\n",
      "Epoch 75/100\n",
      "77/77 [==============================] - 0s 457us/step - loss: 0.5005 - accuracy: 0.7552\n",
      "Epoch 76/100\n",
      "77/77 [==============================] - 0s 455us/step - loss: 0.4860 - accuracy: 0.7747\n",
      "Epoch 77/100\n",
      "77/77 [==============================] - 0s 463us/step - loss: 0.4930 - accuracy: 0.7565\n",
      "Epoch 78/100\n",
      "77/77 [==============================] - 0s 472us/step - loss: 0.5021 - accuracy: 0.7552\n",
      "Epoch 79/100\n",
      "77/77 [==============================] - 0s 457us/step - loss: 0.5291 - accuracy: 0.7552\n",
      "Epoch 80/100\n",
      "77/77 [==============================] - 0s 445us/step - loss: 0.4896 - accuracy: 0.7708\n",
      "Epoch 81/100\n",
      "77/77 [==============================] - 0s 461us/step - loss: 0.4902 - accuracy: 0.7669\n",
      "Epoch 82/100\n",
      "77/77 [==============================] - 0s 461us/step - loss: 0.4977 - accuracy: 0.7500\n",
      "Epoch 83/100\n",
      "77/77 [==============================] - 0s 453us/step - loss: 0.4934 - accuracy: 0.7422\n",
      "Epoch 84/100\n",
      "77/77 [==============================] - 0s 456us/step - loss: 0.4884 - accuracy: 0.7734\n",
      "Epoch 85/100\n",
      "77/77 [==============================] - 0s 460us/step - loss: 0.4888 - accuracy: 0.7708\n",
      "Epoch 86/100\n",
      "77/77 [==============================] - 0s 463us/step - loss: 0.4966 - accuracy: 0.7552\n",
      "Epoch 87/100\n",
      "77/77 [==============================] - 0s 458us/step - loss: 0.4822 - accuracy: 0.7643\n",
      "Epoch 88/100\n",
      "77/77 [==============================] - 0s 462us/step - loss: 0.4889 - accuracy: 0.7695\n",
      "Epoch 89/100\n",
      "77/77 [==============================] - 0s 455us/step - loss: 0.4908 - accuracy: 0.7604\n",
      "Epoch 90/100\n",
      "77/77 [==============================] - 0s 466us/step - loss: 0.4964 - accuracy: 0.7487\n",
      "Epoch 91/100\n",
      "77/77 [==============================] - 0s 453us/step - loss: 0.5115 - accuracy: 0.7565\n",
      "Epoch 92/100\n",
      "77/77 [==============================] - 0s 460us/step - loss: 0.4973 - accuracy: 0.7552\n",
      "Epoch 93/100\n",
      "77/77 [==============================] - 0s 463us/step - loss: 0.5060 - accuracy: 0.7604\n",
      "Epoch 94/100\n",
      "77/77 [==============================] - 0s 454us/step - loss: 0.4810 - accuracy: 0.7604\n",
      "Epoch 95/100\n",
      "77/77 [==============================] - 0s 468us/step - loss: 0.5219 - accuracy: 0.7500\n",
      "Epoch 96/100\n",
      "77/77 [==============================] - 0s 460us/step - loss: 0.4862 - accuracy: 0.7682\n",
      "Epoch 97/100\n",
      "77/77 [==============================] - 0s 454us/step - loss: 0.5034 - accuracy: 0.7604\n",
      "Epoch 98/100\n",
      "77/77 [==============================] - 0s 467us/step - loss: 0.5081 - accuracy: 0.7578\n",
      "Epoch 99/100\n",
      "77/77 [==============================] - 0s 531us/step - loss: 0.4934 - accuracy: 0.7643\n",
      "Epoch 100/100\n",
      "77/77 [==============================] - 0s 466us/step - loss: 0.5051 - accuracy: 0.7604\n"
     ]
    },
    {
     "output_type": "execute_result",
     "data": {
      "text/plain": [
       "<tensorflow.python.keras.callbacks.History at 0x7f8c8be665f8>"
      ]
     },
     "metadata": {},
     "execution_count": 59
    }
   ],
   "source": [
    "# fit the keras model on the dataset\n",
    "# (remove the verbose  = 0 argument to see the output)\n",
    "model.fit(X, y, epochs=100, batch_size=10, verbose=1)"
   ]
  },
  {
   "cell_type": "code",
   "execution_count": 60,
   "metadata": {},
   "outputs": [
    {
     "output_type": "stream",
     "name": "stdout",
     "text": [
      "24/24 [==============================] - 0s 379us/step - loss: 0.4673 - accuracy: 0.7826\n",
      "Model Accuracy:  78.25520634651184\n"
     ]
    }
   ],
   "source": [
    "# evaluate the model\n",
    "print('Model Accuracy: ', model.evaluate(X, y)[1]*100)"
   ]
  },
  {
   "cell_type": "code",
   "execution_count": null,
   "metadata": {},
   "outputs": [],
   "source": []
  }
 ]
}