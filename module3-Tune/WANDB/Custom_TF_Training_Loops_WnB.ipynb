{
  "nbformat": 4,
  "nbformat_minor": 0,
  "metadata": {
    "accelerator": "GPU",
    "colab": {
      "name": "Custom_TF_Training_Loops_WnB.ipynb",
      "provenance": [],
      "collapsed_sections": []
    },
    "kernelspec": {
      "name": "python3",
      "display_name": "Python 3"
    },
    "language_info": {
      "codemirror_mode": {
        "name": "ipython",
        "version": 3
      },
      "file_extension": ".py",
      "mimetype": "text/x-python",
      "name": "python",
      "nbconvert_exporter": "python",
      "pygments_lexer": "ipython3",
      "version": "3.7.1"
    }
  },
  "cells": [
    {
      "cell_type": "code",
      "metadata": {
        "id": "11OpHzjyDV_R",
        "colab": {
          "base_uri": "https://localhost:8080/",
          "height": 34
        },
        "outputId": "0bcecef8-e4e9-47de-fe27-15ec6997c880"
      },
      "source": [
        "# Select the TensorFlow 2.0 runtime\n",
        "%tensorflow_version 2.x"
      ],
      "execution_count": null,
      "outputs": [
        {
          "output_type": "stream",
          "text": [
            "TensorFlow 2.x selected.\n"
          ],
          "name": "stdout"
        }
      ]
    },
    {
      "cell_type": "code",
      "metadata": {
        "id": "ARaFUj2ZDsoO"
      },
      "source": [
        "# Install Weights and Biases (WnB)\n",
        "!pip install wandb"
      ],
      "execution_count": null,
      "outputs": []
    },
    {
      "cell_type": "code",
      "metadata": {
        "id": "pfi5G8ZWDeox"
      },
      "source": [
        "# Primary imports\n",
        "import tensorflow as tf\n",
        "import numpy as np\n",
        "# import wandb"
      ],
      "execution_count": null,
      "outputs": []
    },
    {
      "cell_type": "code",
      "metadata": {
        "id": "UUK3cHkqDovW",
        "colab": {
          "base_uri": "https://localhost:8080/",
          "height": 85
        },
        "outputId": "edeb63b4-9c2a-4578-c4ba-8fd3e4dd4604"
      },
      "source": [
        "# Authorize Weights and Biases\n",
        "!wandb login"
      ],
      "execution_count": null,
      "outputs": [
        {
          "output_type": "stream",
          "text": [
            "\u001b[34m\u001b[1mwandb\u001b[0m: You can find your API key in your browser here: https://app.wandb.ai/authorize\n",
            "\u001b[34m\u001b[1mwandb\u001b[0m: Paste an API key from your profile and hit enter: ab6c21fa98b79790d8c7a9d0a0844b7a1ddaa4e2\n",
            "\u001b[34m\u001b[1mwandb\u001b[0m: Appending key for api.wandb.ai to your netrc file: /root/.netrc\n",
            "\u001b[32mSuccessfully logged in to Weights & Biases!\u001b[0m\n"
          ],
          "name": "stdout"
        }
      ]
    },
    {
      "cell_type": "code",
      "metadata": {
        "id": "1RqRfkKJDzXp",
        "colab": {
          "base_uri": "https://localhost:8080/",
          "height": 85
        },
        "outputId": "eb681324-acf0-40fc-ea1c-4859c942674e"
      },
      "source": [
        "# Intialize WnB with a project name of your choice\n",
        "wandb.init(project=\"custom_training_loops_tf-hist\")"
      ],
      "execution_count": null,
      "outputs": [
        {
          "output_type": "display_data",
          "data": {
            "text/html": [
              "\n",
              "                Logging results to <a href=\"https://wandb.com\" target=\"_blank\">Weights & Biases</a> <a href=\"https://docs.wandb.com/integrations/jupyter.html\" target=\"_blank\">(Documentation)</a>.<br/>\n",
              "                Project page: <a href=\"https://app.wandb.ai/sayakpaul/custom_training_loops_tf-hist\" target=\"_blank\">https://app.wandb.ai/sayakpaul/custom_training_loops_tf-hist</a><br/>\n",
              "                Run page: <a href=\"https://app.wandb.ai/sayakpaul/custom_training_loops_tf-hist/runs/288lxmyz\" target=\"_blank\">https://app.wandb.ai/sayakpaul/custom_training_loops_tf-hist/runs/288lxmyz</a><br/>\n",
              "            "
            ],
            "text/plain": [
              "<IPython.core.display.HTML object>"
            ]
          },
          "metadata": {
            "tags": []
          }
        },
        {
          "output_type": "execute_result",
          "data": {
            "text/plain": [
              "W&B Run: https://app.wandb.ai/sayakpaul/custom_training_loops_tf-hist/runs/288lxmyz"
            ]
          },
          "metadata": {
            "tags": []
          },
          "execution_count": 5
        }
      ]
    },
    {
      "cell_type": "code",
      "metadata": {
        "id": "-TkzuZXSD_MN",
        "colab": {
          "base_uri": "https://localhost:8080/",
          "height": 170
        },
        "outputId": "98c03959-3096-4cf8-9af7-f63fe1c14df1"
      },
      "source": [
        "# Load the FashionMNIST dataset, scale the pixel values\n",
        "(X_train, y_train), (X_test, y_test) = tf.keras.datasets.fashion_mnist.load_data()\n",
        "X_train = X_train/255.\n",
        "X_test = X_test/255.\n",
        "\n",
        "X_train.shape, X_test.shape, y_train.shape, y_test.shape"
      ],
      "execution_count": null,
      "outputs": [
        {
          "output_type": "stream",
          "text": [
            "Downloading data from https://storage.googleapis.com/tensorflow/tf-keras-datasets/train-labels-idx1-ubyte.gz\n",
            "32768/29515 [=================================] - 0s 0us/step\n",
            "Downloading data from https://storage.googleapis.com/tensorflow/tf-keras-datasets/train-images-idx3-ubyte.gz\n",
            "26427392/26421880 [==============================] - 0s 0us/step\n",
            "Downloading data from https://storage.googleapis.com/tensorflow/tf-keras-datasets/t10k-labels-idx1-ubyte.gz\n",
            "8192/5148 [===============================================] - 0s 0us/step\n",
            "Downloading data from https://storage.googleapis.com/tensorflow/tf-keras-datasets/t10k-images-idx3-ubyte.gz\n",
            "4423680/4422102 [==============================] - 0s 0us/step\n"
          ],
          "name": "stdout"
        },
        {
          "output_type": "execute_result",
          "data": {
            "text/plain": [
              "((60000, 28, 28), (10000, 28, 28), (60000,), (10000,))"
            ]
          },
          "metadata": {
            "tags": []
          },
          "execution_count": 2
        }
      ]
    },
    {
      "cell_type": "code",
      "metadata": {
        "id": "uNfUBY4mErkY"
      },
      "source": [
        "# Define the labels of the dataset\n",
        "CLASSES=[\"T-shirt/top\",\"Trouser\",\"Pullover\",\"Dress\",\"Coat\",\n",
        "        \"Sandal\",\"Shirt\",\"Sneaker\",\"Bag\",\"Ankle boot\"]"
      ],
      "execution_count": null,
      "outputs": []
    },
    {
      "cell_type": "code",
      "metadata": {
        "id": "ofiUxCQpEu0p"
      },
      "source": [
        "# Change the pixel values to float32 and reshape input data\n",
        "X_train = X_train.astype(\"float32\").reshape(-1, 28, 28, 1)\n",
        "X_test = X_test.astype(\"float32\").reshape(-1, 28, 28, 1)"
      ],
      "execution_count": null,
      "outputs": []
    },
    {
      "cell_type": "code",
      "metadata": {
        "id": "vWsjTjvwLVvL",
        "colab": {
          "base_uri": "https://localhost:8080/",
          "height": 34
        },
        "outputId": "6403c428-b773-4624-ef88-c6dc56f1e9e8"
      },
      "source": [
        "y_train.shape, y_test.shape"
      ],
      "execution_count": null,
      "outputs": [
        {
          "output_type": "execute_result",
          "data": {
            "text/plain": [
              "((60000,), (10000,))"
            ]
          },
          "metadata": {
            "tags": []
          },
          "execution_count": 5
        }
      ]
    },
    {
      "cell_type": "code",
      "metadata": {
        "id": "jA2ES9N7FOo4"
      },
      "source": [
        "# TensorFlow imports\n",
        "from tensorflow.keras.models import *\n",
        "from tensorflow.keras.layers import *"
      ],
      "execution_count": null,
      "outputs": []
    },
    {
      "cell_type": "code",
      "metadata": {
        "id": "UMXRRKcbE9vE"
      },
      "source": [
        "# Define utility function for building a basic shallow Convnet \n",
        "def get_training_model():\n",
        "    model = Sequential()\n",
        "    model.add(Conv2D(16, (5, 5), activation=\"relu\",\n",
        "        input_shape=(28, 28,1)))\n",
        "    model.add(MaxPooling2D(pool_size=(2, 2)))\n",
        "    model.add(Conv2D(32, (5, 5), activation=\"relu\"))\n",
        "    model.add(MaxPooling2D(pool_size=(2, 2)))\n",
        "    model.add(Dropout(0.2))\n",
        "    model.add(Flatten())\n",
        "    model.add(Dense(128, activation=\"relu\"))\n",
        "    model.add(Dense(len(CLASSES), activation=\"softmax\"))\n",
        "    \n",
        "    return model"
      ],
      "execution_count": null,
      "outputs": []
    },
    {
      "cell_type": "code",
      "metadata": {
        "id": "DDXOr6FhFvXw"
      },
      "source": [
        "# Define loass function and optimizer\n",
        "loss_func = tf.keras.losses.SparseCategoricalCrossentropy()\n",
        "optimizer = tf.keras.optimizers.Adam()"
      ],
      "execution_count": null,
      "outputs": []
    },
    {
      "cell_type": "code",
      "metadata": {
        "id": "uXfw22IZF5Rw"
      },
      "source": [
        "# Average the loss across the batch size within an epoch\n",
        "train_loss = tf.keras.metrics.Mean(name=\"train_loss\")\n",
        "valid_loss = tf.keras.metrics.Mean(name=\"test_loss\")\n",
        "\n",
        "# Specify the performance metric\n",
        "train_acc = tf.keras.metrics.SparseCategoricalAccuracy(name=\"train_acc\")\n",
        "valid_acc = tf.keras.metrics.SparseCategoricalAccuracy(name=\"valid_acc\")"
      ],
      "execution_count": null,
      "outputs": []
    },
    {
      "cell_type": "code",
      "metadata": {
        "id": "w_CcwaadLI8e"
      },
      "source": [
        "# Batches of 64\n",
        "train_ds = tf.data.Dataset.from_tensor_slices((X_train, y_train)).shuffle(100).batch(64)\n",
        "test_ds = tf.data.Dataset.from_tensor_slices((X_test, y_test)).batch(64)"
      ],
      "execution_count": null,
      "outputs": []
    },
    {
      "cell_type": "code",
      "metadata": {
        "id": "-JgN5TWzLroE"
      },
      "source": [
        "# Train the model\n",
        "@tf.function\n",
        "def model_train(features, labels):\n",
        "    # Define the GradientTape context\n",
        "    with tf.GradientTape() as tape:\n",
        "        # Get the probabilities\n",
        "        predictions = model(features)\n",
        "        # Calculate the loss\n",
        "        loss = loss_func(labels, predictions)\n",
        "    # Get the gradients\n",
        "    gradients = tape.gradient(loss, model.trainable_variables)\n",
        "    # Update the weights\n",
        "    optimizer.apply_gradients(zip(gradients, model.trainable_variables))\n",
        "\n",
        "    # Update the loss and accuracy\n",
        "    train_loss(loss)\n",
        "    train_acc(labels, predictions)"
      ],
      "execution_count": null,
      "outputs": []
    },
    {
      "cell_type": "code",
      "metadata": {
        "id": "LBPBn762LwZ1"
      },
      "source": [
        "# Validating the model\n",
        "@tf.function\n",
        "def model_validate(features, labels):\n",
        "    predictions = model(features)\n",
        "    v_loss = loss_func(labels, predictions)\n",
        "\n",
        "    valid_loss(v_loss)\n",
        "    valid_acc(labels, predictions)"
      ],
      "execution_count": null,
      "outputs": []
    },
    {
      "cell_type": "code",
      "metadata": {
        "id": "jleWU_WoPXfN"
      },
      "source": [
        "# A shallow Convnet\n",
        "model = get_training_model()"
      ],
      "execution_count": null,
      "outputs": []
    },
    {
      "cell_type": "code",
      "metadata": {
        "id": "946iV6qSXZXo"
      },
      "source": [
        "# Grab random images from the test and make predictions using \n",
        "# the model *while it is training* and log them using WnB\n",
        "def get_sample_predictions():\n",
        "    predictions = []\n",
        "    images = []\n",
        "    random_indices = np.random.choice(X_test.shape[0], 25)\n",
        "    for index in random_indices:\n",
        "        image = X_test[index].reshape(1, 28, 28, 1)\n",
        "        prediction = np.argmax(model(image).numpy(), axis=1)\n",
        "        prediction = CLASSES[int(prediction)]\n",
        "        \n",
        "        images.append(image)\n",
        "        predictions.append(prediction)\n",
        "    \n",
        "    wandb.log({\"predictions\": [wandb.Image(image, caption=prediction) \n",
        "                               for (image, prediction) in zip(images, predictions)]})"
      ],
      "execution_count": null,
      "outputs": []
    },
    {
      "cell_type": "code",
      "metadata": {
        "id": "yZE9_IhjL4lM",
        "scrolled": false,
        "colab": {
          "base_uri": "https://localhost:8080/",
          "height": 102
        },
        "outputId": "c623e328-8c3f-4dc9-b6df-ee479bf23200"
      },
      "source": [
        "# Train the model for 5 epochs\n",
        "for epoch in range(5):\n",
        "    # Run the model through train and test sets respectively\n",
        "    for (features, labels) in train_ds:\n",
        "        model_train(features, labels)\n",
        "\n",
        "    for test_features, test_labels in test_ds:\n",
        "        model_validate(test_features, test_labels)\n",
        "        \n",
        "    # Grab the results\n",
        "    (loss, acc) = train_loss.result(), train_acc.result()\n",
        "    (val_loss, val_acc) = valid_loss.result(), valid_acc.result()\n",
        "    \n",
        "    # Clear the current state of the metrics\n",
        "    train_loss.reset_states(), train_acc.reset_states()\n",
        "    valid_loss.reset_states(), valid_acc.reset_states()\n",
        "    \n",
        "    # Local logging\n",
        "    template = \"Epoch {}, loss: {:.3f}, acc: {:.3f}, val_loss: {:.3f}, val_acc: {:.3f}\"\n",
        "    print (template.format(epoch+1,\n",
        "                         loss,\n",
        "                         acc,\n",
        "                         val_loss,\n",
        "                         val_acc))\n",
        "    \n",
        "    # Logging with WnB\n",
        "    wandb.log({\"train_loss\": loss.numpy(),\n",
        "               \"train_accuracy\": acc.numpy(),\n",
        "               \"val_loss\": val_loss.numpy(),\n",
        "               \"val_accuracy\": val_acc.numpy()\n",
        "    })\n",
        "    get_sample_predictions()"
      ],
      "execution_count": null,
      "outputs": [
        {
          "output_type": "stream",
          "text": [
            "Epoch 1, loss: 0.547, acc: 0.802, val_loss: 0.401, val_acc: 0.854\n",
            "Epoch 2, loss: 0.350, acc: 0.873, val_loss: 0.356, val_acc: 0.872\n",
            "Epoch 3, loss: 0.300, acc: 0.892, val_loss: 0.334, val_acc: 0.878\n",
            "Epoch 4, loss: 0.271, acc: 0.901, val_loss: 0.322, val_acc: 0.880\n",
            "Epoch 5, loss: 0.247, acc: 0.909, val_loss: 0.301, val_acc: 0.888\n"
          ],
          "name": "stdout"
        }
      ]
    },
    {
      "cell_type": "code",
      "metadata": {
        "id": "LDiVFjkztrjK",
        "colab": {
          "base_uri": "https://localhost:8080/",
          "height": 156
        },
        "outputId": "0766cdaf-3d44-4852-b0a8-77aa502d9a5f"
      },
      "source": [
        "model.save(\"fashion-mnist-kf-sm\")"
      ],
      "execution_count": null,
      "outputs": [
        {
          "output_type": "stream",
          "text": [
            "WARNING:tensorflow:From /usr/local/lib/python3.6/dist-packages/tensorflow/python/training/tracking/tracking.py:111: Model.state_updates (from tensorflow.python.keras.engine.training) is deprecated and will be removed in a future version.\n",
            "Instructions for updating:\n",
            "This property should not be used in TensorFlow 2.0, as updates are applied automatically.\n",
            "WARNING:tensorflow:From /usr/local/lib/python3.6/dist-packages/tensorflow/python/training/tracking/tracking.py:111: Layer.updates (from tensorflow.python.keras.engine.base_layer) is deprecated and will be removed in a future version.\n",
            "Instructions for updating:\n",
            "This property should not be used in TensorFlow 2.0, as updates are applied automatically.\n",
            "INFO:tensorflow:Assets written to: fashion-mnist-kf-sm/assets\n"
          ],
          "name": "stdout"
        }
      ]
    },
    {
      "cell_type": "code",
      "metadata": {
        "id": "hr1_NmhEIk5Q",
        "colab": {
          "base_uri": "https://localhost:8080/",
          "height": 85
        },
        "outputId": "c045f964-3ca9-4898-e743-a8fbd942f41d"
      },
      "source": [
        "for layer in model.layers:\n",
        "    if isinstance(layer, tf.keras.layers.Conv2D) or isinstance(layer, tf.keras.layers.Dense):\n",
        "        print(layer.get_weights()[0].shape)\n",
        "        wandb.log({\"weights\": wandb.Histogram(layer.get_weights()[0])})\n",
        "        wandb.run.summary.update({\"weights\": wandb.Histogram(layer.get_weights()[0])})"
      ],
      "execution_count": null,
      "outputs": [
        {
          "output_type": "stream",
          "text": [
            "(5, 5, 1, 16)\n",
            "(5, 5, 16, 32)\n",
            "(512, 128)\n",
            "(128, 10)\n"
          ],
          "name": "stdout"
        }
      ]
    },
    {
      "cell_type": "code",
      "metadata": {
        "id": "4OuI3X0gt3lo",
        "colab": {
          "base_uri": "https://localhost:8080/",
          "height": 207
        },
        "outputId": "2368f65b-afc7-48c9-be90-7d2b93b573f1"
      },
      "source": [
        "!gcloud auth login"
      ],
      "execution_count": null,
      "outputs": [
        {
          "output_type": "stream",
          "text": [
            "Go to the following link in your browser:\n",
            "\n",
            "    https://accounts.google.com/o/oauth2/auth?client_id=32555940559.apps.googleusercontent.com&redirect_uri=urn%3Aietf%3Awg%3Aoauth%3A2.0%3Aoob&scope=openid+https%3A%2F%2Fwww.googleapis.com%2Fauth%2Fuserinfo.email+https%3A%2F%2Fwww.googleapis.com%2Fauth%2Fcloud-platform+https%3A%2F%2Fwww.googleapis.com%2Fauth%2Fappengine.admin+https%3A%2F%2Fwww.googleapis.com%2Fauth%2Fcompute+https%3A%2F%2Fwww.googleapis.com%2Fauth%2Faccounts.reauth&code_challenge=0CmX9NGkR4VskNSO0pm1QkcpJTNvKnVCdi64LOrxda0&code_challenge_method=S256&access_type=offline&response_type=code&prompt=select_account\n",
            "\n",
            "\n",
            "Enter verification code: 4/3gHOmbzJ2DSx4Jw42L7eSpOqK38aCsoOCeWOd-PMaYYRNFH1gG_mjQ0\n",
            "\n",
            "You are now logged in as [spsayakpaul@gmail.com].\n",
            "Your current project is [None].  You can change this setting by running:\n",
            "  $ gcloud config set project PROJECT_ID\n"
          ],
          "name": "stdout"
        }
      ]
    },
    {
      "cell_type": "code",
      "metadata": {
        "id": "WvywUtv1uATN",
        "colab": {
          "base_uri": "https://localhost:8080/",
          "height": 34
        },
        "outputId": "ab657516-92ce-483c-a2fa-dfdc826cd2a2"
      },
      "source": [
        "!gcloud config set project fast-ai-exploration"
      ],
      "execution_count": null,
      "outputs": [
        {
          "output_type": "stream",
          "text": [
            "Updated property [core/project].\n"
          ],
          "name": "stdout"
        }
      ]
    },
    {
      "cell_type": "code",
      "metadata": {
        "id": "_rZ5jAqcuFP3",
        "colab": {
          "base_uri": "https://localhost:8080/",
          "height": 102
        },
        "outputId": "2e2de39d-d521-499a-8167-8160bc082188"
      },
      "source": [
        "!gsutil cp -r fashion-mnist-kf-sm/* gs://fashion-mnist-kf-sm/"
      ],
      "execution_count": null,
      "outputs": [
        {
          "output_type": "stream",
          "text": [
            "Copying file://fashion-mnist-kf-sm/saved_model.pb [Content-Type=application/octet-stream]...\n",
            "Copying file://fashion-mnist-kf-sm/variables/variables.index [Content-Type=application/octet-stream]...\n",
            "Copying file://fashion-mnist-kf-sm/variables/variables.data-00000-of-00001 [Content-Type=application/octet-stream]...\n",
            "\\\n",
            "Operation completed over 3 objects/425.4 KiB.                                    \n"
          ],
          "name": "stdout"
        }
      ]
    },
    {
      "cell_type": "code",
      "metadata": {
        "id": "FZmb7AJNLN-q",
        "colab": {
          "base_uri": "https://localhost:8080/",
          "height": 85
        },
        "outputId": "6c9a32ad-ed74-4fc9-ae14-568f1bb517c7"
      },
      "source": [
        "for layer in model.layers:\n",
        "    if isinstance(layer, tf.keras.layers.Conv2D) or isinstance(layer, tf.keras.layers.Dense):\n",
        "        print(layer.trainable_variables[0].shape)"
      ],
      "execution_count": null,
      "outputs": [
        {
          "output_type": "stream",
          "text": [
            "(5, 5, 1, 16)\n",
            "(5, 5, 16, 32)\n",
            "(512, 128)\n",
            "(128, 10)\n"
          ],
          "name": "stdout"
        }
      ]
    }
  ]
}