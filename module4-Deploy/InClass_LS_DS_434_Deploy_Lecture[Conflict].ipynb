{
 "cells": [
  {
   "cell_type": "markdown",
   "metadata": {
    "id": "HJzTIkYAsLxw"
   },
   "source": [
    "Lambda School Data Science\n",
    "\n",
    "*Unit 4, Sprint 2, Module 3*\n",
    "\n",
    "---"
   ]
  },
  {
   "cell_type": "markdown",
   "metadata": {
    "id": "YCf3jDMVQHuI"
   },
   "source": [
    "# Neural Network Frameworks (Prepare)"
   ]
  },
  {
   "cell_type": "markdown",
   "metadata": {
    "id": "GR0XBF5HQHuI"
   },
   "source": [
    "## Learning Objectives\n",
    "* <a href=\"#p1\">Part 1</a>: Implemenent Regularization Strategies\n",
    "* <a href=\"#p2\">Part 2</a>: Deploy a Keras Model\n",
    "* <a href=\"#p3\">Part 3</a>: Write a Custom Callback Function (Optional)\n",
    "\n",
    "Today's class will also focus heavily on Callback objects. We will use a variety of callbacks to monitor and manipulate our models based on data that our model produces at the end of an epoch.\n",
    "\n",
    "> A callback is an object that can perform actions at various stages of training (e.g. at the start or end of an epoch, before or after a single batch, etc). -- [Keras Documentation](https://keras.io/api/callbacks/)"
   ]
  },
  {
   "cell_type": "markdown",
   "metadata": {
    "id": "TWuoXZCCKCI7"
   },
   "source": [
    "# Regularization Strategies (Learn)"
   ]
  },
  {
   "cell_type": "markdown",
   "metadata": {
    "id": "E3aMJZuPQHur"
   },
   "source": [
    "## Overview\n",
    "\n",
    "Neural Networks are highly parameterized models and can be easily overfit to the training data. The most salient way to combat this problem is with regularization strategies.  \n",
    "\n",
    "![](https://upload.wikimedia.org/wikipedia/commons/thumb/0/02/Regularization.svg/1920px-Regularization.svg.png)\n",
    "\n",
    "There are four common ways of regularization in neural networks which we cover briefly. Here's a quick summary of how to apply them: \n",
    "\n",
    "1. Always use EarlyStopping. This strategy will prevent your weights from being updated well past the point of their peak usefulness.\n",
    "2. Use EarlyStopping, Weight Decay and Dropout\n",
    "3. Use EarlyStopping, Weight Constraint and Dropout\n",
    "\n",
    "Weight Decay and Weigh Constraint accomplish similar purposes - preventing over fitting the parameters by regularizing the values. The mechanics are just slightly different. That's why you would not necessary want to apply them together."
   ]
  },
  {
   "cell_type": "markdown",
   "metadata": {
    "id": "3FFhK0tLQHus"
   },
   "source": [
    "## Follow Along"
   ]
  },
  {
   "cell_type": "markdown",
   "metadata": {
    "id": "RO74ukb-QHus"
   },
   "source": [
    "### Early Stopping"
   ]
  },
  {
   "cell_type": "code",
   "execution_count": 1,
   "metadata": {
    "executionInfo": {
     "elapsed": 194,
     "status": "ok",
     "timestamp": 1622085648170,
     "user": {
      "displayName": "Parvi Singh",
      "photoUrl": "https://lh3.googleusercontent.com/a-/AOh14GicHh9ECKPiyR68S3IUC3uvEPxQPh88MULwl8RHhQ=s64",
      "userId": "15870809085498692847"
     },
     "user_tz": 240
    },
    "id": "xgQR_iCHSF1x"
   },
   "outputs": [],
   "source": [
    "%load_ext tensorboard"
   ]
  },
  {
   "cell_type": "code",
   "execution_count": 2,
   "metadata": {
    "colab": {
     "base_uri": "https://localhost:8080/"
    },
    "executionInfo": {
     "elapsed": 2874,
     "status": "ok",
     "timestamp": 1622085651238,
     "user": {
      "displayName": "Parvi Singh",
      "photoUrl": "https://lh3.googleusercontent.com/a-/AOh14GicHh9ECKPiyR68S3IUC3uvEPxQPh88MULwl8RHhQ=s64",
      "userId": "15870809085498692847"
     },
     "user_tz": 240
    },
    "id": "t-xLR4Asmy3A",
    "outputId": "ae6dc8ad-be0f-41c8-eed8-01700a86d14a"
   },
   "outputs": [
    {
     "name": "stdout",
     "output_type": "stream",
     "text": [
      "Downloading data from https://storage.googleapis.com/tensorflow/tf-keras-datasets/train-labels-idx1-ubyte.gz\n",
      "32768/29515 [=================================] - 0s 0us/step\n",
      "Downloading data from https://storage.googleapis.com/tensorflow/tf-keras-datasets/train-images-idx3-ubyte.gz\n",
      "26427392/26421880 [==============================] - 0s 0us/step\n",
      "Downloading data from https://storage.googleapis.com/tensorflow/tf-keras-datasets/t10k-labels-idx1-ubyte.gz\n",
      "8192/5148 [===============================================] - 0s 0us/step\n",
      "Downloading data from https://storage.googleapis.com/tensorflow/tf-keras-datasets/t10k-images-idx3-ubyte.gz\n",
      "4423680/4422102 [==============================] - 0s 0us/step\n"
     ]
    }
   ],
   "source": [
    "from tensorflow.keras.datasets import fashion_mnist\n",
    "\n",
    "# load in our dataset \n",
    "(X_train, y_train), (X_test, y_test) = fashion_mnist.load_data()"
   ]
  },
  {
   "cell_type": "code",
   "execution_count": 3,
   "metadata": {
    "colab": {
     "base_uri": "https://localhost:8080/",
     "height": 265
    },
    "executionInfo": {
     "elapsed": 308,
     "status": "ok",
     "timestamp": 1622085651542,
     "user": {
      "displayName": "Parvi Singh",
      "photoUrl": "https://lh3.googleusercontent.com/a-/AOh14GicHh9ECKPiyR68S3IUC3uvEPxQPh88MULwl8RHhQ=s64",
      "userId": "15870809085498692847"
     },
     "user_tz": 240
    },
    "id": "LErVFAGhnUaj",
    "outputId": "afc66b52-7aa4-4c1e-ee40-a17480697607"
   },
   "outputs": [
    {
     "data": {
      "image/png": "[encoded data removed]",
      "text/plain": [
       "<Figure size 432x288 with 1 Axes>"
      ]
     },
     "metadata": {
      "tags": []
     },
     "output_type": "display_data"
    }
   ],
   "source": [
    "import matplotlib.pyplot as plt\n",
    "\n",
    "image_id = 500\n",
    "plt.imshow(X_train[image_id]);\n",
    "# plt.imshow(X_train[image_id], cmap='gray'); # to display in gray scale"
   ]
  },
  {
   "cell_type": "code",
   "execution_count": 4,
   "metadata": {
    "executionInfo": {
     "elapsed": 144,
     "status": "ok",
     "timestamp": 1622085651671,
     "user": {
      "displayName": "Parvi Singh",
      "photoUrl": "https://lh3.googleusercontent.com/a-/AOh14GicHh9ECKPiyR68S3IUC3uvEPxQPh88MULwl8RHhQ=s64",
      "userId": "15870809085498692847"
     },
     "user_tz": 240
    },
    "id": "jY7KV_7xnip_"
   },
   "outputs": [],
   "source": [
    "# normalize pixel values between 0 and 1 \n",
    "max_pixel_value = 255\n",
    "X_train, X_test = X_train /max_pixel_value , X_test / max_pixel_value"
   ]
  },
  {
   "cell_type": "markdown",
   "metadata": {
    "id": "D3rIFGNWcwXP"
   },
   "source": [
    "### Build a Neural Network that uses EarlyStopping"
   ]
  },
  {
   "cell_type": "code",
   "execution_count": null,
   "metadata": {
    "colab": {
     "background_save": true,
     "base_uri": "https://localhost:8080/"
    },
    "id": "AY1HomhxQHus"
   },
   "outputs": [
    {
     "name": "stdout",
     "output_type": "stream",
     "text": [
      "Epoch 1/99\n",
      "1875/1875 [==============================] - 10s 5ms/step - loss: 0.4734 - accuracy: 0.8282 - val_loss: 0.4015 - val_accuracy: 0.8537\n",
      "Epoch 2/99\n",
      "1875/1875 [==============================] - 9s 5ms/step - loss: 0.3547 - accuracy: 0.8689 - val_loss: 0.4072 - val_accuracy: 0.8472\n",
      "Epoch 3/99\n",
      "1875/1875 [==============================] - 9s 5ms/step - loss: 0.3192 - accuracy: 0.8818 - val_loss: 0.3627 - val_accuracy: 0.8699\n",
      "Epoch 4/99\n",
      "1875/1875 [==============================] - 9s 5ms/step - loss: 0.2969 - accuracy: 0.8895 - val_loss: 0.3427 - val_accuracy: 0.8772\n",
      "Epoch 5/99\n",
      "1875/1875 [==============================] - 8s 4ms/step - loss: 0.2817 - accuracy: 0.8951 - val_loss: 0.3523 - val_accuracy: 0.8744\n",
      "Epoch 6/99\n",
      "1875/1875 [==============================] - 8s 4ms/step - loss: 0.2682 - accuracy: 0.8993 - val_loss: 0.3585 - val_accuracy: 0.8756\n",
      "Epoch 7/99\n",
      "1875/1875 [==============================] - 9s 5ms/step - loss: 0.2567 - accuracy: 0.9036 - val_loss: 0.3421 - val_accuracy: 0.8800\n"
     ]
    },
    {
     "data": {
      "text/plain": [
       "<tensorflow.python.keras.callbacks.History at 0x7fb2b18b4610>"
      ]
     },
     "execution_count": null,
     "metadata": {},
     "output_type": "execute_result"
    }
   ],
   "source": [
    "from tensorflow.keras.callbacks import EarlyStopping, TensorBoard\n",
    "from tensorflow.keras.layers import Flatten, Dense\n",
    "from tensorflow.keras.layers import ReLU\n",
    "import tensorflow as tf\n",
    "import os\n",
    "\n",
    "# 1) Create 2 dir for logging files \n",
    "# create 2 dir -- one for tensorboard results and one for early stopping\n",
    "\n",
    "\n",
    "# 2) Instantiate the callbacks \n",
    "# instantiate a tensorboard callback object\n",
    "\n",
    "\n",
    "# instantiate a early stopping clallback object \n",
    "# docs: https://keras.io/api/callbacks/early_stopping/\n",
    "\n",
    "\n",
    "# 3) Build the model \n",
    "\n",
    "# instantiate Sequential class\n",
    "\n",
    "# flatten images \n",
    "\n",
    "# hidden layer 1\n",
    "\n",
    "# act func 1\n",
    "\n",
    "# hidden layer 2\n",
    "\n",
    "# act func 2\n",
    "\n",
    "# hidden layer 3\n",
    "\n",
    "# act func 3\n",
    "\n",
    "# output layer \n",
    "\n",
    "# complie model \n",
    "\n",
    "# fit model \n",
    "\n",
    "\n",
    "\n",
    "\n",
    "# create 2 dir -- one for tensorboard results and one for early stopping\n",
    "logdir = os.path.join(\"logs\", \"EarlyStopping-Loss\") \n",
    "\n",
    "# instantiate a tensorboard callback object \n",
    "tensorboard_callback = tf.keras.callbacks.TensorBoard(logdir, histogram_freq=1)\n",
    "\n",
    "# instantiate a early stopping clallback object \n",
    "# docs: https://keras.io/api/callbacks/early_stopping/\n",
    "stop = EarlyStopping(monitor='val_loss', min_delta=0.001, patience=3)\n",
    "\n",
    "model = tf.keras.Sequential([\n",
    "    # takes 2D image and flattens into a row vector                         \n",
    "    Flatten(input_shape=(28,28)),\n",
    "    \n",
    "    Dense(128), # hidden layer 1 \n",
    "    ReLU(negative_slope=0.01), # act func 1\n",
    "    \n",
    "    Dense(128), # hidden layer 2 \n",
    "    ReLU(negative_slope=.01), # act func 2 \n",
    "    \n",
    "    Dense(128), # hidden layer 3 \n",
    "    ReLU(negative_slope=.01), # act func 3 \n",
    "    \n",
    "    Dense(10, activation='softmax') # output layer, use softmax for classification of labels greater than 2 \n",
    "])\n",
    "\n",
    "model.compile(loss='sparse_categorical_crossentropy', \n",
    "              optimizer='nadam', \n",
    "              metrics=['accuracy'])\n",
    "\n",
    "\n",
    "model.fit(X_train, y_train, \n",
    "          epochs=99, \n",
    "          validation_data=(X_test,y_test),\n",
    "          callbacks=[tensorboard_callback, stop])"
   ]
  },
  {
   "cell_type": "code",
   "execution_count": null,
   "metadata": {
    "colab": {
     "background_save": true
    },
    "id": "QiZkcUexq3_T"
   },
   "outputs": [
    {
     "name": "stdout",
     "output_type": "stream",
     "text": [
      "313/313 [==============================] - 1s 2ms/step - loss: 0.3421 - accuracy: 0.8800\n"
     ]
    },
    {
     "data": {
      "text/plain": [
       "[0.3420729637145996, 0.8799999952316284]"
      ]
     },
     "execution_count": null,
     "metadata": {},
     "output_type": "execute_result"
    }
   ],
   "source": [
    "model.evaluate(X_test, y_test) # this is not the best in case you want the best \n",
    "# weight do the EarlyStopping(monitor='val_loss', min_delta=0.001, patience=3, \n",
    "# restore_best_weights=False); restore_best_weights=False is important to note\n",
    "\n",
    "# another one callback best one to use is ModelCheckPoint"
   ]
  },
  {
   "cell_type": "code",
   "execution_count": null,
   "metadata": {
    "colab": {
     "background_save": true
    },
    "id": "MxOyH9AUq6i4"
   },
   "outputs": [],
   "source": [
    ""
   ]
  },
  {
   "cell_type": "code",
   "execution_count": null,
   "metadata": {
    "colab": {
     "background_save": true
    },
    "id": "7SkLOV087U9H"
   },
   "outputs": [],
   "source": [
    "# Clear any logs from previous runs\n",
    "# !rm -rf ./logs/"
   ]
  },
  {
   "cell_type": "code",
   "execution_count": null,
   "metadata": {
    "colab": {
     "background_save": true
    },
    "id": "E3LFxeg1pJFE"
   },
   "outputs": [
    {
     "data": {
      "application/javascript": [
       "\n",
       "        (async () => {\n",
       "            const url = new URL(await google.colab.kernel.proxyPort(6006, {'cache': true}));\n",
       "            url.searchParams.set('tensorboardColab', 'true');\n",
       "            const iframe = document.createElement('iframe');\n",
       "            iframe.src = url;\n",
       "            iframe.setAttribute('width', '100%');\n",
       "            iframe.setAttribute('height', '800');\n",
       "            iframe.setAttribute('frameborder', 0);\n",
       "            document.body.appendChild(iframe);\n",
       "        })();\n",
       "    "
      ],
      "text/plain": [
       "<IPython.core.display.Javascript object>"
      ]
     },
     "metadata": {},
     "output_type": "display_data"
    }
   ],
   "source": [
    "%tensorboard --logdir logs"
   ]
  },
  {
   "cell_type": "markdown",
   "metadata": {
    "id": "Y7ScqKUzQHuv"
   },
   "source": [
    "---\n",
    "\n",
    "### Weight Decay (a.k.a Weight Shrinkage)\n",
    "\n",
    "```python\n",
    "Dense(64, input_dim=64,\n",
    "            kernel_regularizer=regularizers.l2(0.01),\n",
    "            activity_regularizer=regularizers.l1(0.01)))\n",
    "```"
   ]
  },
  {
   "cell_type": "markdown",
   "metadata": {
    "id": "PzHG6BvVQriY"
   },
   "source": [
    "![](https://qph.fs.quoracdn.net/main-qimg-9d0dbf8074761b541ba80543ddfc9f73.webp)"
   ]
  },
  {
   "cell_type": "markdown",
   "metadata": {
    "id": "UlrWNqhHcwXQ"
   },
   "source": [
    "In the above image with the blue diamond and circle remember that: \n",
    "\n",
    "1. The X and Y axis represent possible values for model weights, in the case of this visualization we have w1 and w2. \n",
    "2. The red dot represents the trangent line (the point of contact) between the error surface (represented by the contour map) and the unit weights (represented by the blue shapes). \n",
    "3. The red dot also tells us the weight values at the point of contact. \n",
    "4. What determines the geometry of the blue shapes are their respective distance metrics. \n",
    "5. The norm of the weights determines where the point of contact will occur. And the norm of the weights is determined by which metric space **p** we are getting the norm equation from. \n",
    "\n",
    "$${\\displaystyle \\left\\|x\\right\\|_{p}=\\left(|x_{1}|^{p}+|x_{2}|^{p}+\\dotsb +|x_{n}|^{p}\\right)^{1/p}.}$$  "
   ]
  },
  {
   "cell_type": "markdown",
   "metadata": {
    "id": "PCCZa9TYQrsc"
   },
   "source": [
    "## Regularization Take Aways\n",
    "\n",
    "Almost remenber that:\n",
    "\n",
    "1. Ridge (l2) and Lasso (l1) are 2 out of possibily infinitly many ways to regularize a model by [**using a distiance metric in Lp space.**](https://en.wikipedia.org/wiki/Lp_space) \n",
    "\n",
    "2. Both L2 and L1 are used to help prevent overfitting. \n",
    "\n",
    "3. **The key difference between L1 and L2** is that L1 will calcualte zero valued feature weights (i.e. **w = 0**) for a subset of features; usually because redundent information is encoded in that subset of features; mathematically, this is refered to as [**MultiCollinearity**](https://en.wikipedia.org/wiki/Multicollinearity). Where as L2 will shrink the value of all feature weights but almost never down to zero. \n",
    "\n",
    "**Take Away: L1 drops features while L2 shrinks them and keeps them**\n",
    "\n"
   ]
  },
  {
   "cell_type": "markdown",
   "metadata": {
    "id": "t2pbTvNhQrvZ"
   },
   "source": [
    "![](https://i.stack.imgur.com/4KSgs.png)"
   ]
  },
  {
   "cell_type": "markdown",
   "metadata": {
    "id": "CT3OD84MQrxq"
   },
   "source": [
    "The above image shows us the geometry of 4 specific Lp spaces. "
   ]
  },
  {
   "cell_type": "markdown",
   "metadata": {
    "id": "sUPwXUgWcwXR"
   },
   "source": [
    "### Build a Neural Net using  $L^p$ regularization"
   ]
  },
  {
   "cell_type": "code",
   "execution_count": null,
   "metadata": {
    "id": "eQuacT-JQHuv"
   },
   "outputs": [],
   "source": [
    "from tensorflow.keras import regularizers\n",
    "from tensorflow.keras.constraints import MaxNorm\n",
    "\n",
    "# build a 3 hidden layer NN using Lp regularization and using both tensorboard and early stopping callbacks \n",
    "# create 2 dir -- one for tensorboard results and one for early stopping\n",
    "logdir = os.path.join(\"logs\", \"Weight-Decay-Loss\") \n",
    "\n",
    "# instantiate a tensorboard callback object \n",
    "tensorboard_callback = tf.keras.callbacks.TensorBoard(logdir, histogram_freq=1)\n",
    "\n",
    "# instantiate a early stopping clallback object \n",
    "# docs: https://keras.io/api/callbacks/early_stopping/\n",
    "stop = EarlyStopping(monitor='val_loss', min_delta=0.001, patience=3, restore_best_weights=True)\n",
    "\n",
    "model = tf.keras.Sequential([\n",
    "    # takes 2D image and flattens into a row vector                         \n",
    "    Flatten(input_shape=(28,28)),\n",
    "    \n",
    "    Dense(128, kernel_regularizer=regularizers.l2(0.01)), # hidden layer 1 \n",
    "    ReLU(negative_slope=0.01), # act func 1\n",
    "    \n",
    "    Dense(128, kernel_regularizer=regularizers.l2(0.01)), # hidden layer 2 \n",
    "    ReLU(negative_slope=.01), # act func 2 \n",
    "    \n",
    "    Dense(128, kernel_regularizer=regularizers.l2(0.01)), # hidden layer 3 \n",
    "    ReLU(negative_slope=.01), # act func 3 \n",
    "    \n",
    "    Dense(10, activation='softmax') # output layer, use softmax for classification of labels greater than 2 \n",
    "])\n",
    "\n",
    "model.compile(loss='sparse_categorical_crossentropy', \n",
    "              optimizer='nadam', \n",
    "              metrics=['accuracy'])\n",
    "\n",
    "\n",
    "model.fit(X_train, y_train, \n",
    "          epochs=99, \n",
    "          validation_data=(X_test,y_test),\n",
    "          callbacks=[tensorboard_callback, stop])"
   ]
  },
  {
   "cell_type": "code",
   "execution_count": null,
   "metadata": {
    "id": "CXysik2_zSqT"
   },
   "outputs": [],
   "source": [
    ""
   ]
  },
  {
   "cell_type": "code",
   "execution_count": null,
   "metadata": {
    "id": "MPA7EHOpxg2z"
   },
   "outputs": [],
   "source": [
    "model.summary()"
   ]
  },
  {
   "cell_type": "code",
   "execution_count": null,
   "metadata": {
    "id": "XP12lHBnxFYe"
   },
   "outputs": [],
   "source": [
    "%tensorboard --logdir logs"
   ]
  },
  {
   "cell_type": "markdown",
   "metadata": {
    "id": "aCJ1aUIfQHuy"
   },
   "source": [
    "----\n",
    "\n",
    "### Weight Constraint\n",
    "\n",
    "```python\n",
    "tf.keras.constraints.MaxNorm(\n",
    "    max_value=2, axis=0\n",
    ")\n",
    "```"
   ]
  },
  {
   "cell_type": "markdown",
   "metadata": {
    "id": "frd__duGcwXS"
   },
   "source": [
    "![](https://qph.fs.quoracdn.net/main-qimg-9d0dbf8074761b541ba80543ddfc9f73.webp)"
   ]
  },
  {
   "cell_type": "markdown",
   "metadata": {
    "id": "d9lmUjxtcwXT"
   },
   "source": [
    "What the weight constraint does is provide a maximum value for the normalized value of these weight norm shapes (represented by the mathematical notation at the buttom of each blue shape. The subscript (or superscript) indicates which $L^p$ space that norm was calculated in.\n",
    "\n",
    "$${\\displaystyle \\left\\|x\\right\\|_{p}=\\left(|x_{1}|^{p}+|x_{2}|^{p}+\\dotsb +|x_{n}|^{p}\\right)^{1/p}.}$$  "
   ]
  },
  {
   "cell_type": "code",
   "execution_count": null,
   "metadata": {
    "id": "gbXBxr1QQHuy"
   },
   "outputs": [],
   "source": [
    "from tensorflow.keras.constraints import MaxNorm \n",
    "\n",
    "from tensorflow.keras.constraints import MaxNorm\n",
    "\n",
    "# build a 3 hidden layer NN using Lp regularization and using both tensorboard and early stopping callbacks \n",
    "\n",
    "# build a 3 hidden layer NN using Lp regularization and using both tensorboard and early stopping callbacks \n",
    "# create 2 dir -- one for tensorboard results and one for early stopping\n",
    "logdir = os.path.join(\"logs\", \"MaxNorm-Loss\") \n",
    "\n",
    "# instantiate a tensorboard callback object \n",
    "tensorboard_callback = tf.keras.callbacks.TensorBoard(logdir, histogram_freq=1)\n",
    "\n",
    "# instantiate a early stopping clallback object \n",
    "# docs: https://keras.io/api/callbacks/early_stopping/\n",
    "stop = EarlyStopping(monitor='val_loss', min_delta=0.001, patience=3, restore_best_weights=True)\n",
    "\n",
    "# weight constraint\n",
    "wc = MaxNorm(max_value=2)\n",
    "\n",
    "model = tf.keras.Sequential([\n",
    "    # takes 2D image and flattens into a row vector                         \n",
    "    Flatten(input_shape=(28,28)),\n",
    "    \n",
    "    Dense(128, kernel_constraint=wc), # hidden layer 1 \n",
    "    ReLU(negative_slope=0.01), # act func 1\n",
    "    \n",
    "    Dense(128, kernel_constraint=wc), # hidden layer 2 \n",
    "    ReLU(negative_slope=.01), # act func 2 \n",
    "    \n",
    "    Dense(128, kernel_constraint=wc), # hidden layer 3 \n",
    "    ReLU(negative_slope=.01), # act func 3 \n",
    "    \n",
    "    Dense(10, activation='softmax') # output layer, use softmax for classification of labels greater than 2 \n",
    "])\n",
    "\n",
    "model.compile(loss='sparse_categorical_crossentropy', \n",
    "              optimizer='nadam', \n",
    "              metrics=['accuracy'])\n",
    "\n",
    "\n",
    "model.fit(X_train, y_train, \n",
    "          epochs=99, \n",
    "          validation_data=(X_test,y_test),\n",
    "          callbacks=[tensorboard_callback, stop])"
   ]
  },
  {
   "cell_type": "code",
   "execution_count": null,
   "metadata": {
    "id": "Erf5T-nXziqc"
   },
   "outputs": [],
   "source": [
    ""
   ]
  },
  {
   "cell_type": "code",
   "execution_count": null,
   "metadata": {
    "id": "8nfuTyj54Qjf"
   },
   "outputs": [],
   "source": [
    "%tensorboard --logdir logs"
   ]
  },
  {
   "cell_type": "markdown",
   "metadata": {
    "id": "9-xMnXMsQHu0"
   },
   "source": [
    "-----\n",
    "### Dropout"
   ]
  },
  {
   "cell_type": "markdown",
   "metadata": {
    "id": "QszBfGEPcwXT"
   },
   "source": [
    "![](https://miro.medium.com/max/981/1*EinUlWw1n8vbcLyT0zx4gw.png)"
   ]
  },
  {
   "cell_type": "markdown",
   "metadata": {
    "id": "ZWa_kWNTcwXU"
   },
   "source": [
    "If interested, feel free to read through the original publication on [**Drop Out**](https://jmlr.org/papers/volume15/srivastava14a.old/srivastava14a.pdf). \n",
    "\n",
    "**Key Take aways:** \n",
    "\n",
    "1. During training, dropout will probabilistically \"turn off\" some neurons in the layer that dropout is implemented in. \n",
    "2. During inference (ie. making predictions on the test set) all neurons are used (i.e. no dropout is applied).\n",
    "3. Dropout works best when used with MaxNorm\n",
    "\n",
    "Here are some articel excepts on how dropout works. \n",
    "\n",
    "\"Dropout can be interpreted as a way of regularizing a neural network by adding noise to\n",
    "its hidden units.\" (page 2)\n",
    "\n",
    "\"Combining several models [model ensembles] is most\n",
    "helpful when the individual models are different from each other and in order to make\n",
    "neural net models different, they should either have different architectures or be trained\n",
    "on different data...It prevents overfitting and\n",
    "provides a way of approximately combining exponentially many different neural network\n",
    "architectures efficiently.\" (page 2)\n",
    "\n",
    "\"Training the **norm of the incoming weight vector** at each hidden unit to be upper\n",
    "bounded by a fixed constant c. In other words, if w represents the vector of weights incident\n",
    "on any hidden unit, the neural network was optimized under the constraint **||w||2 ≤ c**. \n",
    "\n",
    "This constraint was imposed during optimization by **projecting w onto the surface of a ball of\n",
    "radius c, whenever w went out of it**. This is also called **max-norm regularization** since it\n",
    "implies that the maximum value that the norm of any weight can take is c. The constant\n",
    "c is a tunable hyperparameter, which is determined using a validation set.\" (page 6)"
   ]
  },
  {
   "cell_type": "code",
   "execution_count": null,
   "metadata": {
    "id": "MCRL8SmgQHu0"
   },
   "outputs": [],
   "source": [
    "# YOUR CODE HERE\n",
    "raise NotImplementedError()"
   ]
  },
  {
   "cell_type": "code",
   "execution_count": null,
   "metadata": {
    "id": "RFAkmZbVQHu2"
   },
   "outputs": [],
   "source": [
    "%tensorboard --logdir logs"
   ]
  },
  {
   "cell_type": "markdown",
   "metadata": {
    "id": "HbV6zsdQQHu4"
   },
   "source": [
    "## Challenge\n",
    "\n",
    "You will apply regularization strategies inside your neural network today, as you try to avoid overfitting it. \n",
    "\n",
    "---"
   ]
  },
  {
   "cell_type": "markdown",
   "metadata": {
    "id": "3MXbzdBdURod"
   },
   "source": [
    "# Deploy (Learn)"
   ]
  },
  {
   "cell_type": "markdown",
   "metadata": {
    "id": "11LJtU9MUVD5"
   },
   "source": [
    "## Overview\n",
    "\n",
    "You've built a dope image classification model, but it's just sitting your Jupyter Notebook. What now? Well you deploy to some down stream application. TensorFlow supports three ways of deploying it's models: \n",
    "\n",
    "- In-Browswer with TensorFlow.js\n",
    "- API with TensorFlow Serving (TFX) or another Framework\n",
    "- On-Device with TensorFlow Lite\n",
    "\n",
    "You are already familiar with deploying a model as an API from Unit 3, so we will focus on deploying a model in browser. Both methods rely on the same core idea: save your weights and architecture information, load those parameters into application, and perform inference. \n",
    "\n"
   ]
  },
  {
   "cell_type": "markdown",
   "metadata": {
    "id": "IHca-4H2UU8p"
   },
   "source": [
    "## Follow Along"
   ]
  },
  {
   "cell_type": "markdown",
   "metadata": {
    "id": "mP0IIAe4LFW5"
   },
   "source": [
    "### Checkpoint\n",
    "Save the latest weights of your model at the end of each epoch"
   ]
  },
  {
   "cell_type": "code",
   "execution_count": null,
   "metadata": {
    "id": "gmtMJBBriD2Q"
   },
   "outputs": [],
   "source": [
    "import tensorflow as tf\n",
    "\n",
    "cpoint = tf.keras.callbacks.ModelCheckpoint(\"weights_best.h5\",\n",
    "                                            verbose=1, \n",
    "                                            save_weights_only=True)\n",
    "\n",
    "def create_model():\n",
    "\n",
    "    model = tf.keras.Sequential([\n",
    "          Flatten(input_shape=(28,28)),\n",
    "          Dense(128),\n",
    "          ReLU(negative_slope=.01),\n",
    "          Dense(128),\n",
    "          ReLU(negative_slope=.01),\n",
    "          Dense(128),\n",
    "          ReLU(negative_slope=.01),\n",
    "          Dense(10, activation='softmax')\n",
    "        ])\n",
    "\n",
    "    model.compile(loss='sparse_categorical_crossentropy', optimizer='nadam', metrics=['accuracy'])\n",
    "\n",
    "    return model\n",
    "\n",
    "model = create_model()\n",
    "\n",
    "model.fit(X_train, y_train, epochs=2, \n",
    "          validation_data=(X_test,y_test),\n",
    "          verbose=2,\n",
    "          callbacks=[cpoint])"
   ]
  },
  {
   "cell_type": "code",
   "execution_count": null,
   "metadata": {
    "id": "Z5QoKB14LNMb"
   },
   "outputs": [],
   "source": [
    "model.evaluate(X_test, y_test)"
   ]
  },
  {
   "cell_type": "code",
   "execution_count": null,
   "metadata": {
    "id": "eH9jo6gl-SMq"
   },
   "outputs": [],
   "source": [
    "# create a complied model and return it \n",
    "\n",
    "\n",
    "m = create_model()\n",
    "m.load_weights('./weights_best.h5')\n",
    "\n",
    "m.summary()"
   ]
  },
  {
   "cell_type": "code",
   "execution_count": null,
   "metadata": {
    "id": "WQl7g-ImLUY9"
   },
   "outputs": [],
   "source": [
    "m.evaluate(X_test, y_test)"
   ]
  },
  {
   "cell_type": "markdown",
   "metadata": {
    "id": "IGzTQU1_Lnsb"
   },
   "source": [
    "### Save Entire Model\n",
    "This method includes both the weights and architecture"
   ]
  },
  {
   "cell_type": "code",
   "execution_count": null,
   "metadata": {
    "id": "FXtxgTgYL0UC"
   },
   "outputs": [],
   "source": [
    "# Create and train a new model instance.\n",
    "model = create_model()\n",
    "model.fit(X_train,y_train, epochs=5)\n",
    "\n",
    "# Save the entire model as a SavedModel.\n",
    "!mkdir -p saved_model\n",
    "model.save('saved_model/my_model') "
   ]
  },
  {
   "cell_type": "markdown",
   "metadata": {
    "id": "kURHysaUL87B"
   },
   "source": [
    "Load a fresh model:"
   ]
  },
  {
   "cell_type": "code",
   "execution_count": null,
   "metadata": {
    "id": "XCgOlQalMIQr"
   },
   "outputs": [],
   "source": [
    "new_model = tf.keras.models.load_model('saved_model/my_model')\n",
    "\n",
    "# Check its architecture\n",
    "new_model.summary()"
   ]
  },
  {
   "cell_type": "code",
   "execution_count": null,
   "metadata": {
    "id": "qo8zSTTypNC4"
   },
   "outputs": [],
   "source": [
    "new_model.evaluate(X_test, y_test)"
   ]
  },
  {
   "cell_type": "code",
   "execution_count": null,
   "metadata": {
    "id": "yYFdwhU4_Wm9"
   },
   "outputs": [],
   "source": [
    "model.evaluate(X_test, y_test)"
   ]
  },
  {
   "cell_type": "markdown",
   "metadata": {
    "id": "9i7OMOhzc6WT"
   },
   "source": [
    "## Challenge\n",
    "\n",
    "You will be expected to be able to export your model weights and architecutre on the assignment."
   ]
  },
  {
   "cell_type": "markdown",
   "metadata": {
    "id": "rXnXxPCZiAb2"
   },
   "source": [
    "# Custom Callbacks (Learn)"
   ]
  },
  {
   "cell_type": "markdown",
   "metadata": {
    "id": "z6vO6xbkiFGb"
   },
   "source": [
    "## Overview\n",
    "\n",
    "Custom callbacks all you to access data at any point during the training: on batch end, on epoch end, on epoch start, on batch start. Our use case today is a simple one. Let's stop training once we reach a benchmark accuracy."
   ]
  },
  {
   "cell_type": "markdown",
   "metadata": {
    "id": "lCocRF5CiYG_"
   },
   "source": [
    "## Follow Along"
   ]
  },
  {
   "cell_type": "markdown",
   "metadata": {
    "id": "bOisQxYlibOi"
   },
   "source": [
    "## Challenge\n",
    "\n",
    "Experiment with improving our custom callback function. "
   ]
  }
 ],
 "metadata": {
  "accelerator": "GPU",
  "colab": {
   "collapsed_sections": [],
   "name": "InClass_LS_DS_434_Deploy_Lecture.ipynb",
   "version": ""
  },
  "kernelspec": {
   "name": "u4-s1-nlp",
   "language": "python",
   "display_name": "U4-S1-NLP (Python3)"
  },
  "language_info": {
   "codemirror_mode": {
    "name": "ipython",
    "version": 3
   },
   "file_extension": ".py",
   "mimetype": "text/x-python",
   "name": "python",
   "nbconvert_exporter": "python",
   "pygments_lexer": "ipython3",
   "version": "3.7.0"
  },
  "toc-autonumbering": false,
  "toc-showmarkdowntxt": false
 },
 "nbformat": 4,
 "nbformat_minor": 0
}